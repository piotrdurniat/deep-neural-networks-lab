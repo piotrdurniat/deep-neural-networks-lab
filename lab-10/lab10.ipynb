{
  "cells": [
    {
      "cell_type": "markdown",
      "metadata": {
        "id": "MsITBHLCFCnJ"
      },
      "source": [
        "# Wstęp\n",
        "\n",
        "Zadanie 10 jest pierwszą częścią zajęć laboratoryjnych poświęconych sieciom rekurencyjnym i predykcji z wykorzystaniem danych multimodalnych. Efektem prac będzie sieć rekurencyjna do predykcji kursu kryptowaluty Bitcoin (BTC) w oparciu o dane z giełdy oraz o wyniki analizy emocji komunikatów z mediów społecznościowych, do których również należy utworzyć dedykowany model sieci rekurencyjnej. Plan realizacji etapów wygląda następująco:\n",
        "\n",
        "1.  EmoTweet - model sieci rekurencyjnej do analizy emocji (10 pkt., laboratorium 10)\n",
        "2.  Agregacja informacji emotywnej i przygotowanie MultiBTC - multimodalnego model sieci rekurencyjnej do predykcji kursu BTC (10 pkt., laboratorium 11)\n",
        "3.  Ewaluacja modelu MultiBTC (10 pkt., laboratorium 12)\n",
        "\n",
        "Łącznie można otrzymać 30 punktów.\n",
        "\n",
        "# Cel ćwiczenia\n",
        "\n",
        "Celem pierwszego etapu prac jest zapoznanie się z podstawową siecią rekurencyjną LSTM. Ze względu na fakt, że model ten będzie wykorzystany do analizy emocji tekstu, w ramach teorii do zadania zostanie omówiony podstawowy mechanizm konwersji słów w tekście do postaci wektorów dystrybucyjnych (tzw. word embeddings) na podstawie rozwiązania o nazwie `fastText`. Modele będą budowane na ogólnodostępnym zbiorze `TweetEval`, zawierającym podzbiory ręcznie anotowanych tweetów przy pomocy etykiet odnoszących się do następujących zjawisk: 1) emocje (emotion), 2) emotikony (emoji), 3) ironia (irony), 4) mowa nienawiści (hate speech), 5) mowa ofensywna (offensive language), 6) wydźwięk (sentiment), 7) nastawienie (stance).\n",
        "\n",
        "# Warunki zaliczenia\n",
        "\n",
        "Do zaliczenia pierwszego etapu należy utworzyć następujące modele dla min. 2 wybranych zjawisk:\n",
        "\n",
        "1.  Model bazowy (regresja logistyczna).\n",
        "2.  Model rekurencyjny oparty o sieć LSTM.\n",
        "\n",
        "Wytrenowane modele będą wykorzystane w 2 etapie, dlatego proszę je zachować.\n",
        "\n",
        "# Wektory dystrybucyjne\n",
        "\n",
        "W przetwarzaniu języka naturalnego, o wektorach dystrybucyjnych (inaczej osadzeniach lub zanurzeniach, ang. word embeddings) mówi się w kontekście reprezentacji słów w tekście, zazwyczaj w postaci wektora liczb rzeczywistych, który koduje znaczenie słowa. Hipoteza dystrybucyjna, u podstawy której leży większość metod reprezentacji, mówi o tym, że słowa, które często współwystępują, mają podobne znaczenie. Wektory dystrybucyjne można uzyskać za pomocą zestawu technik modelowania języka, w których słowa lub frazy są mapowane do wektorów liczb rzeczywistych. Z reguły polega to na matematycznym zanurzeniu z przestrzeni o wielu wymiarach opisujących słowo (konteksty) do ciągłej przestrzeni wektorowej o znacznie mniejszym wymiarze.\n",
        "\n",
        "Metody generowania tego odwzorowania obejmują sieci neuronowe, redukcję wymiarowości na macierzy współwystępowania słów, modele probabilistyczne lub jawną reprezentację w kontekście, w którym pojawiają się słowa. Wektory dystrybucyjne, używane jako podstawowa reprezentacja wejściowa tekstu, okazały się istotnie poprawiać jakość w wielu zadaniach NLP, takich jak np. rozpoznawanie nazw własnych, określanie części mowy, rozpoznawanie dziedziny tekstu, czy też rozpoznawanie wydźwięku i emocji w tekście.\n",
        "\n",
        "# fastText\n",
        "\n",
        "[fastText](https://fasttext.cc/) jest biblioteką do efektywnego uczenia modeli reprezentacji wektorowych słów oraz do budowania klasyfikatorów tekstu. Modele językowe można budować z wykorzystaniem dwóch popularnych technik: [Continuous Bag of Words](https://www.kdnuggets.com/2018/04/implementing-deep-learning-methods-feature-engineering-text-data-cbow.html) oraz [Skip-Gram](https://towardsdatascience.com/skip-gram-nlp-context-words-prediction-algorithm-5bbf34f84e0c).\n",
        "\n",
        "## Instalacja\n",
        "\n",
        "Pobranie repozytorium projektu:\n"
      ]
    },
    {
      "cell_type": "code",
      "execution_count": 1,
      "metadata": {
        "colab": {
          "base_uri": "https://localhost:8080/"
        },
        "executionInfo": {
          "elapsed": 3153,
          "status": "ok",
          "timestamp": 1619528698259,
          "user": {
            "displayName": "Jan Kocoń",
            "photoUrl": "",
            "userId": "12977978142372414049"
          },
          "user_tz": -120
        },
        "id": "0UkMDUx6bn6e",
        "outputId": "eecff8d4-9a14-4409-f9c3-c66197d9ce6d"
      },
      "outputs": [
        {
          "name": "stdout",
          "output_type": "stream",
          "text": [
            "Cloning into 'fastText'...\n"
          ]
        },
        {
          "name": "stdout",
          "output_type": "stream",
          "text": [
            "remote: Enumerating objects: 3998, done.\u001b[K\n",
            "remote: Counting objects: 100% (1026/1026), done.\u001b[K\n",
            "remote: Compressing objects: 100% (195/195), done.\u001b[K\n",
            "remote: Total 3998 (delta 890), reused 859 (delta 826), pack-reused 2972\u001b[K\n",
            "Receiving objects: 100% (3998/3998), 8.30 MiB | 19.71 MiB/s, done.\n",
            "Resolving deltas: 100% (2528/2528), done.\n"
          ]
        }
      ],
      "source": [
        "!git clone https://github.com/facebookresearch/fastText.git"
      ]
    },
    {
      "cell_type": "markdown",
      "metadata": {
        "id": "4JWc5Ie0cvYo"
      },
      "source": [
        "Instalacja biblioteki:\n"
      ]
    },
    {
      "cell_type": "code",
      "execution_count": 2,
      "metadata": {
        "colab": {
          "base_uri": "https://localhost:8080/"
        },
        "executionInfo": {
          "elapsed": 59303,
          "status": "ok",
          "timestamp": 1619528916436,
          "user": {
            "displayName": "Jan Kocoń",
            "photoUrl": "",
            "userId": "12977978142372414049"
          },
          "user_tz": -120
        },
        "id": "ku0F_kKMbteg",
        "outputId": "f91d142f-9836-40d7-ef9e-d1727e8ff93e"
      },
      "outputs": [
        {
          "name": "stdout",
          "output_type": "stream",
          "text": [
            "\u001b[0mCMake Deprecation Warning at CMakeLists.txt:9 (cmake_minimum_required):\n",
            "  Compatibility with CMake < 3.5 will be removed from a future version of\n",
            "  CMake.\n",
            "\n",
            "  Update the VERSION argument <min> value or use a ...<max> suffix to tell\n",
            "  CMake that the project does not need compatibility with older versions.\n",
            "\n",
            "\u001b[0m\n",
            "-- The C compiler identification is GNU 13.2.0\n",
            "-- The CXX compiler identification is GNU 13.2.0\n",
            "-- Detecting C compiler ABI info\n",
            "-- Detecting C compiler ABI info - done\n",
            "-- Check for working C compiler: /usr/bin/cc - skipped\n",
            "-- Detecting C compile features\n",
            "-- Detecting C compile features - done\n",
            "-- Detecting CXX compiler ABI info\n",
            "-- Detecting CXX compiler ABI info - done\n",
            "-- Check for working CXX compiler: /usr/bin/c++ - skipped\n",
            "-- Detecting CXX compile features\n",
            "-- Detecting CXX compile features - done\n",
            "-- Configuring done (1.2s)\n",
            "-- Generating done (0.0s)\n",
            "-- Build files have been written to: /home/piotr/projects/ai/gsn-l/lab-10/michal/fastText/build\n",
            "[  2%] \u001b[32mBuilding CXX object CMakeFiles/fasttext-shared.dir/src/args.cc.o\u001b[0m\n",
            "[  4%] \u001b[32mBuilding CXX object CMakeFiles/fasttext-shared.dir/src/autotune.cc.o\u001b[0m\n",
            "[  6%] \u001b[32mBuilding CXX object CMakeFiles/fasttext-shared.dir/src/densematrix.cc.o\u001b[0m\n",
            "[  8%] \u001b[32mBuilding CXX object CMakeFiles/fasttext-shared.dir/src/dictionary.cc.o\u001b[0m\n",
            "[ 10%] \u001b[32mBuilding CXX object CMakeFiles/fasttext-shared.dir/src/fasttext.cc.o\u001b[0m\n",
            "[ 12%] \u001b[32mBuilding CXX object CMakeFiles/fasttext-shared.dir/src/loss.cc.o\u001b[0m\n",
            "[ 14%] \u001b[32mBuilding CXX object CMakeFiles/fasttext-shared.dir/src/main.cc.o\u001b[0m\n",
            "[ 17%] \u001b[32mBuilding CXX object CMakeFiles/fasttext-shared.dir/src/matrix.cc.o\u001b[0m\n",
            "[ 19%] \u001b[32mBuilding CXX object CMakeFiles/fasttext-shared.dir/src/meter.cc.o\u001b[0m\n",
            "[ 21%] \u001b[32mBuilding CXX object CMakeFiles/fasttext-shared.dir/src/model.cc.o\u001b[0m\n",
            "[ 23%] \u001b[32mBuilding CXX object CMakeFiles/fasttext-shared.dir/src/productquantizer.cc.o\u001b[0m\n",
            "[ 25%] \u001b[32mBuilding CXX object CMakeFiles/fasttext-shared.dir/src/quantmatrix.cc.o\u001b[0m\n",
            "[ 27%] \u001b[32mBuilding CXX object CMakeFiles/fasttext-shared.dir/src/utils.cc.o\u001b[0m\n",
            "[ 29%] \u001b[32mBuilding CXX object CMakeFiles/fasttext-shared.dir/src/vector.cc.o\u001b[0m\n",
            "[ 31%] \u001b[32m\u001b[1mLinking CXX shared library libfasttext.so\u001b[0m\n",
            "[ 31%] Built target fasttext-shared\n",
            "[ 34%] \u001b[32mBuilding CXX object CMakeFiles/fasttext-static.dir/src/args.cc.o\u001b[0m\n",
            "[ 36%] \u001b[32mBuilding CXX object CMakeFiles/fasttext-static.dir/src/autotune.cc.o\u001b[0m\n",
            "[ 38%] \u001b[32mBuilding CXX object CMakeFiles/fasttext-static.dir/src/densematrix.cc.o\u001b[0m\n",
            "[ 40%] \u001b[32mBuilding CXX object CMakeFiles/fasttext-static.dir/src/dictionary.cc.o\u001b[0m\n",
            "[ 42%] \u001b[32mBuilding CXX object CMakeFiles/fasttext-static.dir/src/fasttext.cc.o\u001b[0m\n",
            "^C\n",
            "make[2]: *** [CMakeFiles/fasttext-static.dir/build.make:132: CMakeFiles/fasttext-static.dir/src/fasttext.cc.o] Interrupt\n",
            "make[1]: *** [CMakeFiles/Makefile2:115: CMakeFiles/fasttext-static.dir/all] Interrupt\n",
            "make: *** [Makefile:136: all] Interrupt\n"
          ]
        }
      ],
      "source": [
        "!cd fastText && mkdir build && cd build && cmake ..  && make && make install"
      ]
    },
    {
      "cell_type": "markdown",
      "metadata": {
        "id": "7ApV6Bzwc1_R"
      },
      "source": [
        "Instalacja API do Pythona:\n"
      ]
    },
    {
      "cell_type": "code",
      "execution_count": null,
      "metadata": {},
      "outputs": [
        {
          "name": "stdout",
          "output_type": "stream",
          "text": [
            "Collecting pybind11\n",
            "  Downloading pybind11-2.12.0-py3-none-any.whl (234 kB)\n",
            "\u001b[2K     \u001b[90m━━━━━━━━━━━━━━━━━━━━━━━━━━━━━━━━━━━━━━━\u001b[0m \u001b[32m235.0/235.0 KB\u001b[0m \u001b[31m4.0 MB/s\u001b[0m eta \u001b[36m0:00:00\u001b[0ma \u001b[36m0:00:01\u001b[0m\n",
            "\u001b[?25hInstalling collected packages: pybind11\n",
            "Successfully installed pybind11-2.12.0\n",
            "Note: you may need to restart the kernel to use updated packages.\n"
          ]
        }
      ],
      "source": [
        "pip install pybind11"
      ]
    },
    {
      "cell_type": "code",
      "execution_count": null,
      "metadata": {
        "colab": {
          "base_uri": "https://localhost:8080/"
        },
        "executionInfo": {
          "elapsed": 49798,
          "status": "ok",
          "timestamp": 1619529094503,
          "user": {
            "displayName": "Jan Kocoń",
            "photoUrl": "",
            "userId": "12977978142372414049"
          },
          "user_tz": -120
        },
        "id": "xElxRxJycnDA",
        "outputId": "ee6668e8-b6c0-40be-d8b4-04d189c058e2"
      },
      "outputs": [
        {
          "name": "stdout",
          "output_type": "stream",
          "text": [
            "Processing home/piotr/lab10/fastText\n",
            "  Installing build dependencies ... \u001b[?25ldone\n",
            "\u001b[?25h  Getting requirements to build wheel ... \u001b[?25ldone\n",
            "\u001b[?25h  Preparing metadata (pyproject.toml) ... \u001b[?25ldone\n",
            "\u001b[?25hCollecting numpy\n",
            "  Downloading numpy-1.26.4-cp310-cp310-manylinux_2_17_x86_64.manylinux2014_x86_64.whl (18.2 MB)\n",
            "\u001b[2K     \u001b[90m━━━━━━━━━━━━━━━━━━━━━━━━━━━━━━━━━━━━━━━━\u001b[0m \u001b[32m18.2/18.2 MB\u001b[0m \u001b[31m51.2 MB/s\u001b[0m eta \u001b[36m0:00:00\u001b[0m00:01\u001b[0m00:01\u001b[0m\n",
            "\u001b[?25hRequirement already satisfied: pybind11>=2.2 in home/piotr/venvy/DL_LAB1012/lib/python3.10/site-packages (from fasttext==0.9.2) (2.12.0)\n",
            "Requirement already satisfied: setuptools>=0.7.0 in home/piotr/venvy/DL_LAB1012/lib/python3.10/site-packages (from fasttext==0.9.2) (59.6.0)\n",
            "Building wheels for collected packages: fasttext\n",
            "  Building wheel for fasttext (pyproject.toml) ... \u001b[?25ldone\n",
            "\u001b[?25h  Created wheel for fasttext: filename=fasttext-0.9.2-cp310-cp310-linux_x86_64.whl size=4239650 sha256=372a79ac7e4e03b288f37d1edc230190753df8e528a3800a88fd03e27a5fd5f3\n",
            "  Stored in directory: /tmp/pip-ephem-wheel-cache-6ej5pljs/wheels/a4/50/45/ed116c6707873cca3e43a46007f880db0ad755c2f115b155d4\n",
            "Successfully built fasttext\n",
            "Installing collected packages: numpy, fasttext\n",
            "Successfully installed fasttext-0.9.2 numpy-1.26.4\n"
          ]
        }
      ],
      "source": [
        "!cd fastText && pip install ."
      ]
    },
    {
      "cell_type": "markdown",
      "metadata": {
        "id": "7ceW8c2XdOf4"
      },
      "source": [
        "# Dane do etapu nr 1\n",
        "\n",
        "## Korpus\n",
        "\n",
        "Korpus (zbiór dokumentów) do realizacji etapu nr 1 pochodzi z repozytorium [TweetEval](https://github.com/cardiffnlp/tweeteval). Repozytorium zawiera 7 różnorodnych zbiorów danych, zawierających zanonimizowane wpisy z [Twittera](https://twitter.com), anotowane następującymi zjawiskami: 1) emocje (emotion), 2) emotikony (emoji), 3) ironia (irony), 4) mowa nienawiści (hate speech), 5) mowa ofensywna (offensive language), 6) wydźwięk (sentiment), 7) nastawienie (stance).\n"
      ]
    },
    {
      "cell_type": "code",
      "execution_count": null,
      "metadata": {
        "id": "ER8c8zNmgE40"
      },
      "outputs": [],
      "source": [
        "# należy wgrać plik z katalogu \"dane\" o nazwie tweeteval.7z"
      ]
    },
    {
      "cell_type": "code",
      "execution_count": null,
      "metadata": {
        "colab": {
          "base_uri": "https://localhost:8080/"
        },
        "executionInfo": {
          "elapsed": 1776,
          "status": "ok",
          "timestamp": 1619529928557,
          "user": {
            "displayName": "Jan Kocoń",
            "photoUrl": "",
            "userId": "12977978142372414049"
          },
          "user_tz": -120
        },
        "id": "qS6VxC26gUNt",
        "outputId": "9bf16419-9508-4cd9-d46a-6884ae6f3bd8"
      },
      "outputs": [
        {
          "name": "stdout",
          "output_type": "stream",
          "text": [
            "\n",
            "7-Zip (a) [64] 16.02 : Copyright (c) 1999-2016 Igor Pavlov : 2016-05-21\n",
            "p7zip Version 16.02 (locale=C.UTF-8,Utf16=on,HugeFiles=on,64 bits,16 CPUs AMD Ryzen 7 3800XT 8-Core Processor             (870F10),ASM,AES-NI)\n",
            "\n",
            "Scanning the drive for archives:\n",
            "  0M Sca        1 file, 17390348 bytes (17 MiB)\n",
            "\n",
            "Extracting archive: tweeteval.7z\n",
            "--\n",
            "Path = tweeteval.7z\n",
            "Type = 7z\n",
            "Physical Size = 17390348\n",
            "Headers Size = 1810\n",
            "Method = LZMA2:24\n",
            "Solid = +\n",
            "Blocks = 1\n",
            "\n",
            "     82% 79 - tweeteval/datasets/hate/train_text.t                                              Everything is Ok\n",
            "\n",
            "Folders: 33\n",
            "Files: 115\n",
            "Size:       30563155\n",
            "Compressed: 17390348\n"
          ]
        }
      ],
      "source": [
        "!7za x tweeteval.7z"
      ]
    },
    {
      "cell_type": "markdown",
      "metadata": {
        "id": "Kb6c5nuvgiaF"
      },
      "source": [
        "## Zawartość korpusu\n",
        "\n",
        "W katalogu głównym (tweeteval) znajdują się następujące elementy:\n",
        "\n",
        "- `datasets` - katalog ze zbiorami danych\n",
        "- `emotion` - tweety anotowane emocjami\n",
        "  - `mapping.txt` - identyfikatory etykiet oraz ich opis\n",
        "  - `train_text.txt` - wpisy z Twittera (część ucząca)\n",
        "  - `train_labels.txt` - etykiety wpisów z Twittera (część ucząca)\n",
        "  - `test_*.txt, valid_*.txt` - j.w. (część testowa i walidacyjna)\n",
        "- `emoji` - tweety anotowane emotikonami\n",
        "- `...` - katalogi zawierające tweety anotowane pozostałymi zjawiskami\n",
        "- `predictions` - katalog z przykładowymi predykcjami\n",
        "- `emotion.txt` - etykiety modelu predykcyjnego dla części testowej danych `emotion`\n",
        "- `emoji.txt` - j.w. dla cz. testowej danych `emoji`\n",
        "- `...` - j.w. dla pozostałych danych\n",
        "- `evaluation_script.py` - skrypt do ewaluacji\n",
        "\n",
        "## Model języka\n",
        "\n",
        "Na potrzeby zadania został przygotowany model Skip-Gram reprezentacji wektorowej słów, zbudowany na wielkim korpusie tweetów dotyczących kursu BTC. Wersja binarna tego modelu dostępna jest w 2 wariantach:\n",
        "\n",
        "- wektory 100-elementowe (1.7GB, fasttext_tweetmodel_btc_sg_100_en.bin)\n",
        "- wektory 20-elementowe (350MB, fasttext_tweetmodel_btc_sg_20_en.bin)\n",
        "\n",
        "Na potrzeby prezentacji przykładowego rozwiązania zostanie wykorzystany mniejszy model. Do realizacji ostatecznego rozwiązania należy wykorzystać większy model.\n"
      ]
    },
    {
      "cell_type": "markdown",
      "metadata": {
        "id": "stk-sYt9o6sD"
      },
      "source": [
        "# Model bazowy rozpoznawania emocji\n",
        "\n",
        "Model bazowy, zbudowany z wykorzystaniem narzędzia fastText (oparty o regresję logistyczną), będzie punktem wyjścia do porównania się z modelami opartymi o sieci LSTM, których skonstruowanie i ewaluacja na wybranych zadaniach będzie celem etapu nr 1.\n",
        "\n",
        "Pobranie mniejszego modelu reprezentacji języka tweetów:\n"
      ]
    },
    {
      "cell_type": "code",
      "execution_count": null,
      "metadata": {
        "id": "ChAehfcHggvF"
      },
      "outputs": [],
      "source": [
        "# należy wgrać plik z katalogu \"dane\" o nazwie fasttext_tweetmodel_btc_sg_20_en.bin"
      ]
    },
    {
      "cell_type": "markdown",
      "metadata": {
        "id": "NkacglPdr96Y"
      },
      "source": [
        "Wydobycie słownika wektorów z binarnego modelu języka:\n"
      ]
    },
    {
      "cell_type": "code",
      "execution_count": 1,
      "metadata": {
        "id": "CHyqkncyrZru"
      },
      "outputs": [],
      "source": [
        "!python fastText/python/doc/examples/bin_to_vec.py fasttext_tweetmodel_btc_sg_100_en.bin > fasttext_tweetmodel_btc_sg_100_en.vec"
      ]
    },
    {
      "cell_type": "markdown",
      "metadata": {
        "id": "_E_5UDKYyzwp"
      },
      "source": [
        "Dodanie prefiksu `__label__` do etykiet zbioru `emotion`:\n"
      ]
    },
    {
      "cell_type": "code",
      "execution_count": null,
      "metadata": {
        "id": "OjUQvyKIsKV8"
      },
      "outputs": [],
      "source": [
        "!sed 's/^/__label__/g' tweeteval/datasets/emotion/train_labels.txt > train_labels_emo.txt\n",
        "!sed 's/^/__label__/g' tweeteval/datasets/emotion/test_labels.txt > test_labels_emo.txt\n",
        "!sed 's/^/__label__/g' tweeteval/datasets/emotion/val_labels.txt > val_labels_emo.txt"
      ]
    },
    {
      "cell_type": "markdown",
      "metadata": {
        "id": "IlHv_VJ5zIHw"
      },
      "source": [
        "Przygotowanie zbioru uczącego, testowego i walidacyjnego w formacie `fastText`:\n"
      ]
    },
    {
      "cell_type": "code",
      "execution_count": null,
      "metadata": {
        "id": "nNdjvsT8siZ1"
      },
      "outputs": [],
      "source": [
        "!paste -d \" \" tweeteval/datasets/emotion/train_text.txt train_labels_emo.txt > train_emo.txt\n",
        "!paste -d \" \" tweeteval/datasets/emotion/test_text.txt test_labels_emo.txt > test_emo.txt\n",
        "!paste -d \" \" tweeteval/datasets/emotion/val_text.txt val_labels_emo.txt > val_emo.txt"
      ]
    },
    {
      "cell_type": "markdown",
      "metadata": {
        "id": "ro5A5HAEzGNJ"
      },
      "source": [
        "Trenowanie modelu z wykorzystaniem wejścia `train_emo.txt`, z określeniem wyjściowej nazwy modelu `emo_model`, dla wektorów słów o wymiarze `20`, z wykorzystaniem pretrenowanych wektorów z pliku `fasttext_tweetmodel_btc_sg_20_en.vec` i z uruchomieniem dostrajania hiperparametrów na zbiorze walidacyjnym `val_emo.txt`:\n"
      ]
    },
    {
      "cell_type": "code",
      "execution_count": null,
      "metadata": {
        "colab": {
          "base_uri": "https://localhost:8080/"
        },
        "executionInfo": {
          "elapsed": 342769,
          "status": "ok",
          "timestamp": 1619533909840,
          "user": {
            "displayName": "Jan Kocoń",
            "photoUrl": "",
            "userId": "12977978142372414049"
          },
          "user_tz": -120
        },
        "id": "GChCYj1ptoEj",
        "outputId": "6948a803-c679-484b-e6e1-62f622c38bb8"
      },
      "outputs": [
        {
          "name": "stdout",
          "output_type": "stream",
          "text": [
            "Warning : dim is manually set to a specific value. It will not be automatically optimized.\n",
            "Progress: 100.0% Trials:   41 Best score:  0.700535 ETA:   0h 0m 0s30s\n",
            "Training again with best arguments\n",
            "Read 0M words\n",
            "Number of words:  12887\n",
            "Number of labels: 4\n",
            "Progress: 100.0% words/sec/thread:  551561 lr:  0.000000 avg.loss:  0.025569 ETA:   0h 0m 0s\n"
          ]
        }
      ],
      "source": [
        "!fasttext supervised -input train_emo.txt -output emo_model -dim 20 -pretrainedVectors fasttext_tweetmodel_btc_sg_20_en.vec -autotune-validation val_emo.txt "
      ]
    },
    {
      "cell_type": "markdown",
      "metadata": {
        "id": "pkp4BDnvzxrN"
      },
      "source": [
        "Podstawowa ewaluacja modelu z wykorzystaniem `fastText`, wynikiem jest precyzja (P - precision) i kompletność (R - recall) w wariancie [weighted](https://scikit-learn.org/stable/modules/generated/sklearn.metrics.precision_recall_fscore_support.html).\n"
      ]
    },
    {
      "cell_type": "code",
      "execution_count": null,
      "metadata": {
        "colab": {
          "base_uri": "https://localhost:8080/"
        },
        "executionInfo": {
          "elapsed": 3304,
          "status": "ok",
          "timestamp": 1619533952150,
          "user": {
            "displayName": "Jan Kocoń",
            "photoUrl": "",
            "userId": "12977978142372414049"
          },
          "user_tz": -120
        },
        "id": "90GbSCCgvmCj",
        "outputId": "8d6a82fa-3a33-4a4f-f5cc-fad0c8b6c82d"
      },
      "outputs": [
        {
          "name": "stdout",
          "output_type": "stream",
          "text": [
            "N\t1421\n",
            "P@1\t0.673\n",
            "R@1\t0.673\n"
          ]
        }
      ],
      "source": [
        "!fasttext test emo_model.bin test_emo.txt"
      ]
    },
    {
      "cell_type": "markdown",
      "metadata": {
        "id": "OoqaR5To0UWq"
      },
      "source": [
        "Rozszerzona ewaluacja modelu z wykorzystaniem `fastText`, wynikiem jest precyzja (P - precision), kompletność (R - recall) oraz F1-score dla każdej etykiety w wariancie [weighted](https://scikit-learn.org/stable/modules/generated/sklearn.metrics.precision_recall_fscore_support.html).\n"
      ]
    },
    {
      "cell_type": "code",
      "execution_count": null,
      "metadata": {
        "colab": {
          "base_uri": "https://localhost:8080/"
        },
        "executionInfo": {
          "elapsed": 2783,
          "status": "ok",
          "timestamp": 1619534237333,
          "user": {
            "displayName": "Jan Kocoń",
            "photoUrl": "",
            "userId": "12977978142372414049"
          },
          "user_tz": -120
        },
        "id": "e3xFd-RDwv_w",
        "outputId": "1ff6b4ab-b956-49ca-cfc2-527e39933bd4"
      },
      "outputs": [
        {
          "name": "stdout",
          "output_type": "stream",
          "text": [
            "F1-Score : 0.740433  Precision : 0.690994  Recall : 0.797491   __label__0\n",
            "F1-Score : 0.657929  Precision : 0.658793  Recall : 0.657068   __label__3\n",
            "F1-Score : 0.665676  Precision : 0.711111  Recall : 0.625698   __label__1\n",
            "F1-Score : 0.362745  Precision : 0.456790  Recall : 0.300813   __label__2\n",
            "N\t1421\n",
            "P@1\t0.673\n",
            "R@1\t0.673\n"
          ]
        }
      ],
      "source": [
        "!fasttext test-label emo_model.bin test_emo.txt"
      ]
    },
    {
      "cell_type": "markdown",
      "metadata": {
        "id": "Y__FOjZO0jrw"
      },
      "source": [
        "Przygotowanie danych do ewaluacji z wykorzystaniem skryptu dołączonego do zbioru TweetEval:\n"
      ]
    },
    {
      "cell_type": "code",
      "execution_count": null,
      "metadata": {
        "id": "dZyri0pVw43n"
      },
      "outputs": [],
      "source": [
        "!mkdir predictions2"
      ]
    },
    {
      "cell_type": "code",
      "execution_count": null,
      "metadata": {
        "id": "1gMgdnILxScS"
      },
      "outputs": [],
      "source": [
        "!fasttext predict emo_model.bin tweeteval/datasets/emotion/test_text.txt | sed 's/__label__//g' > predictions2/emotion.txt"
      ]
    },
    {
      "cell_type": "markdown",
      "metadata": {
        "id": "xRwh9aIx0s3I"
      },
      "source": [
        "Uruchomienie ewaluacji. Oprócz wyników P, R, F1 [weighted](<(https://scikit-learn.org/stable/modules/generated/sklearn.metrics.precision_recall_fscore_support.html)>) dla każdej etykiety, otrzymujemy również wyniki w wariancie [macro](<(https://scikit-learn.org/stable/modules/generated/sklearn.metrics.precision_recall_fscore_support.html)>). **Ostateczną miarą (TweetEval Score) jest miara F1-score w wariancie macro i tę miarę proszę traktować jako kluczową przy porównywaniu rozwiązań.**\n"
      ]
    },
    {
      "cell_type": "code",
      "execution_count": null,
      "metadata": {
        "colab": {
          "base_uri": "https://localhost:8080/"
        },
        "executionInfo": {
          "elapsed": 1418,
          "status": "ok",
          "timestamp": 1619534576905,
          "user": {
            "displayName": "Jan Kocoń",
            "photoUrl": "",
            "userId": "12977978142372414049"
          },
          "user_tz": -120
        },
        "id": "RpAjMNr2xn-e",
        "outputId": "7a9d4908-2440-40ae-c24f-5a6ac8d4aaaa"
      },
      "outputs": [
        {
          "name": "stdout",
          "output_type": "stream",
          "text": [
            "0 {'precision': 0.6909937888198758, 'recall': 0.7974910394265233, 'f1-score': 0.740432612312812, 'support': 558.0}\n",
            "1 {'precision': 0.7111111111111111, 'recall': 0.6256983240223464, 'f1-score': 0.6656760772659732, 'support': 358.0}\n",
            "2 {'precision': 0.4567901234567901, 'recall': 0.3008130081300813, 'f1-score': 0.3627450980392157, 'support': 123.0}\n",
            "3 {'precision': 0.6587926509186351, 'recall': 0.6570680628272252, 'f1-score': 0.6579292267365662, 'support': 382.0}\n",
            "accuracy 0.673469387755102\n",
            "macro avg {'precision': 0.6294219185766031, 'recall': 0.595267608601544, 'f1-score': 0.6066957535886418, 'support': 1421.0}\n",
            "weighted avg {'precision': 0.6671332088496638, 'recall': 0.673469387755102, 'f1-score': 0.6667276882504992, 'support': 1421.0}\n",
            "------------------------------\n",
            "TweetEval Score (emotion): 0.6066957535886418\n"
          ]
        }
      ],
      "source": [
        "!python tweeteval/evaluation_script.py --tweeteval_path tweeteval/datasets --predictions_path predictions2 --task emotion"
      ]
    },
    {
      "cell_type": "markdown",
      "metadata": {
        "id": "FV9_Gnrz2T0m"
      },
      "source": [
        "# Budowa modeli EmoTweet\n",
        "\n",
        "W tej sekcji Państwa zadaniem będzie przygotowanie modeli sieci LSTM oraz modeli bazowych opartych o regresję logistyczną (fastText) dla wybranych 2 zjawisk ze zbioru TweetEval. Dla sieci LSTM kolejne jednostki sieci rekurencyjnej na wejściu dostają reprezentację wektorową kolejnych wyrazów w tekście. Wyjście z ostatniej jednostki podlega klasyfikacji. W celu usprawnienia zadania, przedstawiona zostanie metoda reprezentacji wektorowej tekstu z wykorzystaniem Pythonowego API do narzędzia fastText. Do ewaluacji modeli należy wykorzystać uprzednio zaprezentowany skrypt `tweeteval/evaluation_script.py`.\n",
        "\n",
        "## Wektoryzacja tekstu\n"
      ]
    },
    {
      "cell_type": "code",
      "execution_count": null,
      "metadata": {
        "id": "pmdakZza43X8"
      },
      "outputs": [],
      "source": [
        "# inicjalizacja biblioteki\n",
        "import fasttext"
      ]
    },
    {
      "cell_type": "code",
      "execution_count": null,
      "metadata": {
        "id": "DpJZYWyd6EK-"
      },
      "outputs": [],
      "source": [
        "# ładowanie modelu\n",
        "MODEL_PATH = \"fasttext_tweetmodel_btc_sg_20_en.bin\"\n",
        "model = fasttext.load_model(MODEL_PATH)"
      ]
    },
    {
      "cell_type": "code",
      "execution_count": null,
      "metadata": {
        "colab": {
          "base_uri": "https://localhost:8080/",
          "height": 419
        },
        "executionInfo": {
          "elapsed": 944,
          "status": "ok",
          "timestamp": 1619537191361,
          "user": {
            "displayName": "Jan Kocoń",
            "photoUrl": "",
            "userId": "12977978142372414049"
          },
          "user_tz": -120
        },
        "id": "yRs60cO96zk5",
        "outputId": "11c62264-8f71-4f36-9222-038482fa4184"
      },
      "outputs": [
        {
          "data": {
            "text/html": [
              "<div>\n",
              "<style scoped>\n",
              "    .dataframe tbody tr th:only-of-type {\n",
              "        vertical-align: middle;\n",
              "    }\n",
              "\n",
              "    .dataframe tbody tr th {\n",
              "        vertical-align: top;\n",
              "    }\n",
              "\n",
              "    .dataframe thead th {\n",
              "        text-align: right;\n",
              "    }\n",
              "</style>\n",
              "<table border=\"1\" class=\"dataframe\">\n",
              "  <thead>\n",
              "    <tr style=\"text-align: right;\">\n",
              "      <th></th>\n",
              "      <th>0</th>\n",
              "    </tr>\n",
              "  </thead>\n",
              "  <tbody>\n",
              "    <tr>\n",
              "      <th>0</th>\n",
              "      <td>“Worry is a down payment on a problem you may ...</td>\n",
              "    </tr>\n",
              "    <tr>\n",
              "      <th>1</th>\n",
              "      <td>My roommate: it's okay that we can't spell bec...</td>\n",
              "    </tr>\n",
              "    <tr>\n",
              "      <th>2</th>\n",
              "      <td>No but that's so cute. Atsu was probably shy a...</td>\n",
              "    </tr>\n",
              "    <tr>\n",
              "      <th>3</th>\n",
              "      <td>Rooneys fucking untouchable isn't he? Been fuc...</td>\n",
              "    </tr>\n",
              "    <tr>\n",
              "      <th>4</th>\n",
              "      <td>it's pretty depressing when u hit pan on ur fa...</td>\n",
              "    </tr>\n",
              "    <tr>\n",
              "      <th>...</th>\n",
              "      <td>...</td>\n",
              "    </tr>\n",
              "    <tr>\n",
              "      <th>3252</th>\n",
              "      <td>I get discouraged because I try for 5 fucking ...</td>\n",
              "    </tr>\n",
              "    <tr>\n",
              "      <th>3253</th>\n",
              "      <td>The @user are in contention and hosting @user ...</td>\n",
              "    </tr>\n",
              "    <tr>\n",
              "      <th>3254</th>\n",
              "      <td>@user @user @user @user @user as a fellow UP g...</td>\n",
              "    </tr>\n",
              "    <tr>\n",
              "      <th>3255</th>\n",
              "      <td>You have a #problem? Yes! Can you do #somethin...</td>\n",
              "    </tr>\n",
              "    <tr>\n",
              "      <th>3256</th>\n",
              "      <td>@user @user i will fight this guy! Don't insul...</td>\n",
              "    </tr>\n",
              "  </tbody>\n",
              "</table>\n",
              "<p>3257 rows × 1 columns</p>\n",
              "</div>"
            ],
            "text/plain": [
              "                                                      0\n",
              "0     “Worry is a down payment on a problem you may ...\n",
              "1     My roommate: it's okay that we can't spell bec...\n",
              "2     No but that's so cute. Atsu was probably shy a...\n",
              "3     Rooneys fucking untouchable isn't he? Been fuc...\n",
              "4     it's pretty depressing when u hit pan on ur fa...\n",
              "...                                                 ...\n",
              "3252  I get discouraged because I try for 5 fucking ...\n",
              "3253  The @user are in contention and hosting @user ...\n",
              "3254  @user @user @user @user @user as a fellow UP g...\n",
              "3255  You have a #problem? Yes! Can you do #somethin...\n",
              "3256  @user @user i will fight this guy! Don't insul...\n",
              "\n",
              "[3257 rows x 1 columns]"
            ]
          },
          "execution_count": 3,
          "metadata": {},
          "output_type": "execute_result"
        }
      ],
      "source": [
        "# wczytanie danych treningowych\n",
        "import pandas as pd\n",
        "\n",
        "TRAIN_PATH = \"tweeteval/datasets/emotion/train_text.txt\"\n",
        "train_texts = pd.read_csv(TRAIN_PATH, sep=\"\\t\", header=None)\n",
        "train_texts"
      ]
    },
    {
      "cell_type": "code",
      "execution_count": null,
      "metadata": {
        "colab": {
          "base_uri": "https://localhost:8080/"
        },
        "executionInfo": {
          "elapsed": 1000,
          "status": "ok",
          "timestamp": 1619537393680,
          "user": {
            "displayName": "Jan Kocoń",
            "photoUrl": "",
            "userId": "12977978142372414049"
          },
          "user_tz": -120
        },
        "id": "Fk-7nV9x8C-Y",
        "outputId": "c6bda960-2c8b-48cc-9016-602e843ea79d"
      },
      "outputs": [
        {
          "name": "stdout",
          "output_type": "stream",
          "text": [
            "“Worry -1 [-0.04189867  0.15429688  0.96717507  1.3809655   0.49123076 -0.5447607\n",
            " -0.11276884  0.20356484 -1.0640966  -1.6616327   0.03930127 -0.7224096\n",
            "  0.21334486 -0.5872285   0.2898182   0.81751084 -1.6077403   1.8038087\n",
            "  0.4850348   1.0643197 ]\n",
            "is 6 [ 0.24099417  0.13544752  0.7251924   0.32544732  0.27421224  0.31903243\n",
            "  0.7501186   0.22853182 -0.91543657  0.08587569  0.13866538 -0.38624704\n",
            " -0.30637258  0.13666666 -0.43992838 -0.12443608 -1.0383893  -0.06567164\n",
            "  0.17007533 -0.16708991]\n",
            "a 7 [-0.00810981 -0.03934941  0.81658655  0.56301105  0.43812367  0.29547286\n",
            "  0.4691784   0.07483605 -0.58705056  0.28240088 -0.6339584  -0.16187707\n",
            " -0.23376046 -0.1245347   0.03071329 -0.07603034 -0.9066614  -0.07007706\n",
            "  0.4522892  -0.15033531]\n",
            "down 174 [ 0.9175071  -1.0815151   0.07119758  0.34226617  0.9607946   0.5973182\n",
            "  0.91058624 -0.32068744 -0.72137564  1.2241784  -0.1882128  -0.23591968\n",
            " -0.02596712 -0.10194965 -0.09553405  0.36303622  0.22354192  0.4901933\n",
            "  0.5405883   0.5965071 ]\n",
            "payment 556 [ 0.6073219  -0.00891357  0.7414747   1.3249576   0.07864746  1.4985372\n",
            "  0.4708811   1.4519942   0.13019626 -0.07420245 -0.83968335 -0.05105841\n",
            " -0.28754452  0.36899182  0.7846754  -0.891886   -0.6211444   0.49265763\n",
            " -0.11467575 -0.0749438 ]\n",
            "on 14 [-0.09723835  0.3496086   0.6910995   0.28277752  0.8975253  -0.01230987\n",
            "  0.67500156  0.02879165 -0.786506    0.602648   -0.39817798  0.543332\n",
            " -0.46127442 -0.23781577  0.0184579  -0.28403515 -0.3935916   0.3259461\n",
            "  0.0507571  -0.03765008]\n",
            "a 7 [-0.00810981 -0.03934941  0.81658655  0.56301105  0.43812367  0.29547286\n",
            "  0.4691784   0.07483605 -0.58705056  0.28240088 -0.6339584  -0.16187707\n",
            " -0.23376046 -0.1245347   0.03071329 -0.07603034 -0.9066614  -0.07007706\n",
            "  0.4522892  -0.15033531]\n",
            "problem 1224 [ 0.9236216   0.13799877  0.9784595   1.5032955   0.31760898  0.13017276\n",
            "  0.5282482   0.4380176  -0.556051    0.11004172 -0.53169626 -0.7698464\n",
            " -0.21855882  0.10204052  0.089779    0.04558972 -0.4503975  -0.40340552\n",
            "  0.1640271   0.30253166]\n",
            "you 18 [ 0.36285082  0.23824042  0.92288643  0.33069703  0.61494684  0.62680995\n",
            "  0.8206055   0.49254185 -0.44717252 -0.47944754 -0.852041   -0.63990945\n",
            "  0.02505241 -0.43478322 -0.06202105  0.16197506 -0.36003593  0.2883114\n",
            "  0.73949414  0.5215194 ]\n",
            "may 309 [-0.20453136 -0.15716666  0.2648741   0.91359925  0.8807271   0.45750532\n",
            "  0.78538996  0.15402626 -0.9378929   0.49042216 -0.3321735  -0.6558436\n",
            "  0.08917101 -0.42916426 -0.4275598   0.3072008  -0.45899373 -0.02519113\n",
            "  0.34117666  0.12960152]\n",
            "never 299 [ 0.4569879  -0.43546084  0.8783896   0.8701302   0.47704792  0.46891853\n",
            "  0.77218413  0.28471166 -0.35907164 -0.17841178 -0.6685155  -1.0739613\n",
            "  0.17042854 -0.6416858  -0.0809866   0.52535385 -0.38173252  0.22777203\n",
            "  0.5776487   0.47688836]\n",
            "have'. -1 [-0.14791821  0.27410123  0.6040076   1.4533241   0.27587754  0.37697735\n",
            "  0.8350882   0.08774029 -0.9036173  -0.12468915 -0.8917518  -0.99509364\n",
            " -0.1603566  -0.50394845 -0.6500326   0.21711075 -0.20765467  0.57654476\n",
            "  0.976134   -0.09989043]\n",
            " Joyce -1 [ 0.3620899  -0.21890068  0.6421599   0.4646088  -0.23233397  0.01426617\n",
            "  0.75234526  0.06882509 -0.7289002   0.84054786 -0.8729406  -0.38942376\n",
            " -0.813916    0.52664775 -0.22176157  0.6487463  -0.97409683  1.1249645\n",
            " -0.6657481  -0.39433447]\n",
            "Meyer. 512882 [ 0.21895045  0.3844226   1.1516806   0.94822884  0.27445677  0.14578705\n",
            " -0.22505678 -0.32554576  0.16166015 -0.0054998  -1.2656554  -0.60765606\n",
            " -0.70257545  1.0171603  -0.3287179   0.5872529  -0.9836187   1.2412837\n",
            "  0.30786654 -0.36381623]\n",
            "#motivation 4480 [ 0.3188765   1.6882232  -0.5868895   0.6897793   0.95900065  0.80034953\n",
            " -1.3323131   1.2530718   0.0942677   0.2178247  -2.2693706  -0.7811642\n",
            "  0.01969428 -0.19465806 -1.6017233   1.0578989  -1.521254    1.5721912\n",
            "  0.43281424  1.6291353 ]\n",
            "#leadership 11070 [ 0.804105    1.703703   -0.27683935  1.0883378   1.2486427   0.71987647\n",
            " -1.2214324   0.31226104  0.28527248  0.43703973 -1.8948476  -0.66148883\n",
            "  0.5252311   0.3964793  -0.8544514   1.5619631  -1.4804806   0.9278764\n",
            " -0.8143877   1.1089797 ]\n",
            "#worry 238619 [ 1.659063   -0.08081658 -0.51301146  1.7041371   0.99064165  0.66747195\n",
            " -0.7270127   0.53979534  0.6186053  -0.26956725 -1.8310189  -1.1024348\n",
            " -0.0060048  -1.2603769  -1.9151248   0.394539   -0.64696866  1.3250468\n",
            "  0.07283593  0.45277843]\n"
          ]
        }
      ],
      "source": [
        "# wektoryzacja pierwszego tekstu\n",
        "first_text = train_texts[0][0]\n",
        "for word in fasttext.tokenize(first_text):\n",
        "    print(word, model.get_word_id(word), model.get_word_vector(word))"
      ]
    },
    {
      "cell_type": "markdown",
      "metadata": {
        "id": "NWb5iv7T9ML9"
      },
      "source": [
        "Proszę zwrócić uwagę, że fastText jest w stanie przyporządkować reprezentację wektorową nawet dla takich słów, których model języka nie widział w trakcie uczenia (pierwszy token wejściowego tekstu).\n"
      ]
    },
    {
      "cell_type": "markdown",
      "metadata": {
        "id": "eYtFNcbU9qSR"
      },
      "source": [
        "## Model klasyfikacji tekstu LSTM (2 pkt.)\n"
      ]
    },
    {
      "cell_type": "code",
      "execution_count": 2,
      "metadata": {},
      "outputs": [],
      "source": [
        "import torch\n",
        "from torch import nn\n",
        "from torch.nn.utils.rnn import pad_sequence\n",
        "import torch.optim as optim\n",
        "from torch.utils.data import DataLoader, TensorDataset\n",
        "from typing import Tuple\n",
        "from tqdm import tqdm"
      ]
    },
    {
      "cell_type": "code",
      "execution_count": null,
      "metadata": {},
      "outputs": [
        {
          "data": {
            "text/plain": [
              "'cuda'"
            ]
          },
          "execution_count": 3,
          "metadata": {},
          "output_type": "execute_result"
        }
      ],
      "source": [
        "device = torch.device(\"cuda\" if torch.cuda.is_available() else \"cpu\")\n",
        "device.type"
      ]
    },
    {
      "cell_type": "code",
      "execution_count": null,
      "metadata": {
        "id": "SOP5PoY7907f"
      },
      "outputs": [],
      "source": [
        "# TODO\n",
        "\n",
        "\n",
        "class LSTMModel(nn.Module):\n",
        "\n",
        "    def __init__(\n",
        "        self,\n",
        "        input_size: int,\n",
        "        hidden_size: list[int],\n",
        "        output_size: int,\n",
        "        n_layers: int,\n",
        "        dropout: float = 0.2,\n",
        "    ):\n",
        "        super().__init__()\n",
        "        self.hidden_size = hidden_size\n",
        "        self.n_layers = n_layers\n",
        "        self.lstm = nn.LSTM(\n",
        "            input_size,\n",
        "            self.hidden_size[0],\n",
        "            self.n_layers,\n",
        "            batch_first=True,\n",
        "            dropout=dropout,\n",
        "        )\n",
        "        self.dropout = nn.Dropout(dropout)\n",
        "        if len(hidden_size) > 1:\n",
        "            linears = [\n",
        "                nn.Linear(self.hidden_size[i], self.hidden_size[i + 1])\n",
        "                for i in range(len(self.hidden_size) - 1)\n",
        "            ]\n",
        "        else:\n",
        "            linears = []\n",
        "        linears.append(nn.Linear(self.hidden_size[-1], output_size))\n",
        "        self.fc = nn.Sequential(*linears)\n",
        "        self.relu = nn.ReLU()\n",
        "\n",
        "    def forward(self, x):\n",
        "        h0 = torch.zeros(self.n_layers, x.size(0), self.hidden_size[0]).to(device)\n",
        "        c0 = torch.zeros(self.n_layers, x.size(0), self.hidden_size[0]).to(device)\n",
        "\n",
        "        output, (hidden_state, _) = self.lstm(x, (h0, c0))\n",
        "        output = self.dropout(hidden_state[-1])\n",
        "        output = self.fc(output)\n",
        "        output = self.relu(output)\n",
        "        return output"
      ]
    },
    {
      "cell_type": "code",
      "execution_count": null,
      "metadata": {},
      "outputs": [],
      "source": [
        "# Stwórz dataloader\n",
        "\n",
        "\n",
        "def create_loader(\n",
        "    TEXT_PATH: str,\n",
        "    LABELS_PATH: str,\n",
        "    MODEL_PATH: str = \"fasttext_tweetmodel_btc_sg_100_en.bin\",\n",
        "    batch_size: int = 64,\n",
        "):\n",
        "\n",
        "    model = fasttext.load_model(MODEL_PATH)\n",
        "\n",
        "    with open(TEXT_PATH, \"r\") as file:\n",
        "        data = file.read()\n",
        "    lines = data.split(\"\\n\")\n",
        "    if lines[-1] == \"\":\n",
        "        lines = lines[:-1]\n",
        "    texts = pd.DataFrame(lines)\n",
        "\n",
        "    representations = [\n",
        "        torch.tensor(\n",
        "            [model.get_word_vector(word) for word in fasttext.tokenize(texts[0][i])]\n",
        "        )\n",
        "        for i in range(len(texts))\n",
        "    ]\n",
        "    X = pad_sequence(representations, batch_first=True, padding_value=0.0)\n",
        "\n",
        "    labels = pd.read_csv(LABELS_PATH, sep=\"\\t\", header=None).to_numpy()\n",
        "    y = torch.tensor(labels).squeeze(1)\n",
        "\n",
        "    loader = DataLoader(TensorDataset(X, y), batch_size=batch_size, shuffle=True)\n",
        "    return loader"
      ]
    },
    {
      "cell_type": "code",
      "execution_count": null,
      "metadata": {},
      "outputs": [],
      "source": [
        "def count_correct(y_pred: torch.Tensor, y_true: torch.Tensor) -> torch.Tensor:\n",
        "    preds = torch.argmax(y_pred, dim=1)\n",
        "    not_bg = (y_true != 255).float()\n",
        "    return ((preds == y_true).float() * not_bg).sum() / not_bg.sum()\n",
        "\n",
        "\n",
        "def validate(\n",
        "    model: nn.Module, loss_fn: torch.nn.CrossEntropyLoss, dataloader: DataLoader\n",
        ") -> Tuple[torch.Tensor, torch.Tensor]:\n",
        "    loss = 0\n",
        "    correct = 0\n",
        "    all = 0\n",
        "    for X_batch, y_batch in dataloader:\n",
        "        y_pred = model(X_batch.cuda())\n",
        "        all += 1\n",
        "        loss += loss_fn(y_pred, y_batch.cuda()).sum()\n",
        "        correct += count_correct(y_pred, y_batch.cuda())\n",
        "    return loss / all, correct / all\n",
        "\n",
        "\n",
        "def fit(\n",
        "    model: nn.Module,\n",
        "    optimiser: optim.Optimizer,\n",
        "    loss_fn: torch.nn.CrossEntropyLoss,\n",
        "    train_dl: DataLoader,\n",
        "    val_dl: DataLoader,\n",
        "    epochs: int,\n",
        "    print_metrics: str = True,\n",
        "):\n",
        "    epoch_log = []\n",
        "    train_loss_log = []\n",
        "    val_loss_log = []\n",
        "    train_acc_log = []\n",
        "    val_acc_log = []\n",
        "    # best_loss = float(\"inf\")\n",
        "    # best_epoch = 0\n",
        "    # patience = 10\n",
        "\n",
        "    for epoch in range(epochs):\n",
        "        epoch_log.append(epoch)\n",
        "\n",
        "        for X_batch, y_batch in tqdm(train_dl):\n",
        "            model.train()\n",
        "            X_batch, y_batch = X_batch.to(device), y_batch.to(device)\n",
        "            y_pred = model(\n",
        "                X_batch\n",
        "            )  # Uzyskanie pseudoprawdopodobieństw dla próbek z minibatcha\n",
        "            loss = loss_fn(y_pred, y_batch)  # Policzenie funkcji straty\n",
        "\n",
        "            loss.backward()  # Wsteczna propagacja z wyniku funkcji straty - policzenie gradientów i zapisanie ich w tensorach (parametrach)\n",
        "            optimiser.step()  # Aktualizacja parametrów modelu przez optymalizator na podstawie gradientów zapisanych w tensorach (parametrach) oraz lr\n",
        "            optimiser.zero_grad()  # Wyzerowanie gradientów w modelu, alternatywnie można wywołać percepron.zero_grad()\n",
        "            model.eval()  # Przełączenie na tryb ewaluacji modelu - istotne dla takich warstw jak Dropuot czy BatchNorm\n",
        "\n",
        "        with torch.no_grad():  # Wstrzymujemy przeliczanie i śledzenie gradientów dla tensorów - w procesie ewaluacji modelu nie chcemy zmian w gradientach\n",
        "            train_loss, train_acc = validate(model, loss_fn, train_dl)\n",
        "            val_loss, val_acc = validate(model, loss_fn, val_dl)\n",
        "            train_loss_log.append(train_loss.item())\n",
        "            val_loss_log.append(val_loss.item())\n",
        "            train_acc_log.append(train_acc.item())\n",
        "            val_acc_log.append(val_acc.item())\n",
        "\n",
        "            # if val_loss < best_loss:\n",
        "            #     best_loss = val_loss\n",
        "            #     best_epoch = epoch\n",
        "            # else:\n",
        "            #     if epoch > best_epoch + patience:\n",
        "            #         break\n",
        "\n",
        "        if print_metrics:\n",
        "            print(\n",
        "                f\"Epoch {epoch}: \"\n",
        "                f\"train loss = {train_loss:.3f} (acc: {train_acc:.3f}), \"\n",
        "                f\"validation loss = {val_loss:.3f} (acc: {val_acc:.3f})\"\n",
        "            )\n",
        "\n",
        "    return (\n",
        "        epoch_log,\n",
        "        train_loss_log,\n",
        "        val_loss_log,\n",
        "        train_acc_log,\n",
        "        val_acc_log,\n",
        "        max(val_acc_log),\n",
        "    )"
      ]
    },
    {
      "cell_type": "markdown",
      "metadata": {},
      "source": [
        "## Trenowanie modeli LSTM dla ZJAWISKO_1 i ZJAWISKO_2 (2 pkt.)\n",
        "\n",
        "Należy wybrać 2 z 7 dostępnych podzbiorów z [TweetEval](https://github.com/cardiffnlp/tweeteval) anotowanych następującymi zjawiskami: 1) emocje (emotion), 2) emotikony (emoji), 3) ironia (irony), 4) mowa nienawiści (hate speech), 5) mowa ofensywna (offensive language), 6) wydźwięk (sentiment), 7) nastawienie (stance).\n"
      ]
    },
    {
      "cell_type": "markdown",
      "metadata": {},
      "source": [
        "#### Emocje (Emotion)\n"
      ]
    },
    {
      "cell_type": "code",
      "execution_count": null,
      "metadata": {},
      "outputs": [],
      "source": [
        "import pandas as pd\n",
        "\n",
        "# SENTYMENT\n",
        "TRAIN_TEXT_EMOTION = \"tweeteval/datasets/emotion/train_text.txt\"\n",
        "TRAIN_LABELS_EMOTION = \"tweeteval/datasets/emotion/train_labels.txt\"\n",
        "VAL_TEXT_EMOTION = \"tweeteval/datasets/emotion/test_text.txt\"\n",
        "VAL_LABELS_EMOTION = \"tweeteval/datasets/emotion/test_labels.txt\"\n",
        "\n",
        "train_loader = create_loader(TRAIN_TEXT_EMOTION, TRAIN_LABELS_EMOTION, batch_size=32)\n",
        "val_loader = create_loader(VAL_TEXT_EMOTION, VAL_LABELS_EMOTION, batch_size=32)"
      ]
    },
    {
      "cell_type": "code",
      "execution_count": null,
      "metadata": {},
      "outputs": [
        {
          "name": "stderr",
          "output_type": "stream",
          "text": [
            "100%|██████████| 1426/1426 [00:05<00:00, 285.08it/s]\n"
          ]
        },
        {
          "name": "stdout",
          "output_type": "stream",
          "text": [
            "Epoch 0: train loss = 0.859 (acc: 0.591), validation loss = 0.976 (acc: 0.536)\n"
          ]
        },
        {
          "name": "stderr",
          "output_type": "stream",
          "text": [
            "100%|██████████| 1426/1426 [00:04<00:00, 287.97it/s]\n"
          ]
        },
        {
          "name": "stdout",
          "output_type": "stream",
          "text": [
            "Epoch 1: train loss = 0.843 (acc: 0.596), validation loss = 0.932 (acc: 0.591)\n"
          ]
        },
        {
          "name": "stderr",
          "output_type": "stream",
          "text": [
            "100%|██████████| 1426/1426 [00:05<00:00, 279.04it/s]\n"
          ]
        },
        {
          "name": "stdout",
          "output_type": "stream",
          "text": [
            "Epoch 2: train loss = 0.816 (acc: 0.626), validation loss = 0.923 (acc: 0.601)\n"
          ]
        },
        {
          "name": "stderr",
          "output_type": "stream",
          "text": [
            "100%|██████████| 1426/1426 [00:05<00:00, 276.25it/s]\n"
          ]
        },
        {
          "name": "stdout",
          "output_type": "stream",
          "text": [
            "Epoch 3: train loss = 0.785 (acc: 0.642), validation loss = 0.921 (acc: 0.615)\n"
          ]
        },
        {
          "name": "stderr",
          "output_type": "stream",
          "text": [
            "100%|██████████| 1426/1426 [00:05<00:00, 278.00it/s]\n"
          ]
        },
        {
          "name": "stdout",
          "output_type": "stream",
          "text": [
            "Epoch 4: train loss = 0.776 (acc: 0.656), validation loss = 0.914 (acc: 0.631)\n"
          ]
        },
        {
          "name": "stderr",
          "output_type": "stream",
          "text": [
            "100%|██████████| 1426/1426 [00:06<00:00, 231.15it/s]\n"
          ]
        },
        {
          "name": "stdout",
          "output_type": "stream",
          "text": [
            "Epoch 5: train loss = 0.737 (acc: 0.663), validation loss = 0.791 (acc: 0.642)\n"
          ]
        },
        {
          "name": "stderr",
          "output_type": "stream",
          "text": [
            "100%|██████████| 1426/1426 [00:07<00:00, 201.36it/s]\n"
          ]
        },
        {
          "name": "stdout",
          "output_type": "stream",
          "text": [
            "Epoch 6: train loss = 0.719 (acc: 0.669), validation loss = 0.747 (acc: 0.653)\n"
          ]
        },
        {
          "name": "stderr",
          "output_type": "stream",
          "text": [
            "100%|██████████| 1426/1426 [00:07<00:00, 200.64it/s]\n"
          ]
        },
        {
          "name": "stdout",
          "output_type": "stream",
          "text": [
            "Epoch 7: train loss = 0.709 (acc: 0.675), validation loss = 0.773 (acc: 0.640)\n"
          ]
        },
        {
          "name": "stderr",
          "output_type": "stream",
          "text": [
            "100%|██████████| 1426/1426 [00:07<00:00, 201.90it/s]\n"
          ]
        },
        {
          "name": "stdout",
          "output_type": "stream",
          "text": [
            "Epoch 8: train loss = 0.696 (acc: 0.682), validation loss = 0.768 (acc: 0.641)\n"
          ]
        },
        {
          "name": "stderr",
          "output_type": "stream",
          "text": [
            "100%|██████████| 1426/1426 [00:06<00:00, 205.61it/s]\n"
          ]
        },
        {
          "name": "stdout",
          "output_type": "stream",
          "text": [
            "Epoch 9: train loss = 0.683 (acc: 0.685), validation loss = 0.750 (acc: 0.651)\n"
          ]
        },
        {
          "name": "stderr",
          "output_type": "stream",
          "text": [
            "100%|██████████| 1426/1426 [00:06<00:00, 204.75it/s]\n"
          ]
        },
        {
          "name": "stdout",
          "output_type": "stream",
          "text": [
            "Epoch 10: train loss = 0.670 (acc: 0.695), validation loss = 0.740 (acc: 0.653)\n"
          ]
        },
        {
          "name": "stderr",
          "output_type": "stream",
          "text": [
            "100%|██████████| 1426/1426 [00:05<00:00, 239.78it/s]\n"
          ]
        },
        {
          "name": "stdout",
          "output_type": "stream",
          "text": [
            "Epoch 11: train loss = 0.657 (acc: 0.703), validation loss = 0.752 (acc: 0.640)\n"
          ]
        },
        {
          "name": "stderr",
          "output_type": "stream",
          "text": [
            "100%|██████████| 1426/1426 [00:05<00:00, 284.24it/s]\n"
          ]
        },
        {
          "name": "stdout",
          "output_type": "stream",
          "text": [
            "Epoch 12: train loss = 0.661 (acc: 0.693), validation loss = 0.729 (acc: 0.657)\n"
          ]
        },
        {
          "name": "stderr",
          "output_type": "stream",
          "text": [
            "100%|██████████| 1426/1426 [00:06<00:00, 226.04it/s]\n"
          ]
        },
        {
          "name": "stdout",
          "output_type": "stream",
          "text": [
            "Epoch 13: train loss = 0.649 (acc: 0.701), validation loss = 0.766 (acc: 0.640)\n"
          ]
        },
        {
          "name": "stderr",
          "output_type": "stream",
          "text": [
            "100%|██████████| 1426/1426 [00:05<00:00, 280.18it/s]\n"
          ]
        },
        {
          "name": "stdout",
          "output_type": "stream",
          "text": [
            "Epoch 14: train loss = 0.622 (acc: 0.714), validation loss = 0.756 (acc: 0.651)\n"
          ]
        },
        {
          "name": "stderr",
          "output_type": "stream",
          "text": [
            "100%|██████████| 1426/1426 [00:05<00:00, 275.91it/s]\n"
          ]
        },
        {
          "name": "stdout",
          "output_type": "stream",
          "text": [
            "Epoch 15: train loss = 0.624 (acc: 0.715), validation loss = 0.752 (acc: 0.646)\n"
          ]
        },
        {
          "name": "stderr",
          "output_type": "stream",
          "text": [
            "100%|██████████| 1426/1426 [00:04<00:00, 287.09it/s]\n"
          ]
        },
        {
          "name": "stdout",
          "output_type": "stream",
          "text": [
            "Epoch 16: train loss = 0.611 (acc: 0.720), validation loss = 0.755 (acc: 0.653)\n"
          ]
        },
        {
          "name": "stderr",
          "output_type": "stream",
          "text": [
            "100%|██████████| 1426/1426 [00:05<00:00, 277.31it/s]\n"
          ]
        },
        {
          "name": "stdout",
          "output_type": "stream",
          "text": [
            "Epoch 17: train loss = 0.597 (acc: 0.730), validation loss = 0.771 (acc: 0.647)\n"
          ]
        },
        {
          "name": "stderr",
          "output_type": "stream",
          "text": [
            "100%|██████████| 1426/1426 [00:05<00:00, 269.67it/s]\n"
          ]
        },
        {
          "name": "stdout",
          "output_type": "stream",
          "text": [
            "Epoch 18: train loss = 0.595 (acc: 0.729), validation loss = 0.789 (acc: 0.639)\n"
          ]
        },
        {
          "name": "stderr",
          "output_type": "stream",
          "text": [
            "100%|██████████| 1426/1426 [00:06<00:00, 208.19it/s]\n"
          ]
        },
        {
          "name": "stdout",
          "output_type": "stream",
          "text": [
            "Epoch 19: train loss = 0.587 (acc: 0.739), validation loss = 0.773 (acc: 0.639)\n"
          ]
        },
        {
          "name": "stderr",
          "output_type": "stream",
          "text": [
            "100%|██████████| 1426/1426 [00:05<00:00, 261.81it/s]\n"
          ]
        },
        {
          "name": "stdout",
          "output_type": "stream",
          "text": [
            "Epoch 20: train loss = 0.583 (acc: 0.734), validation loss = 0.759 (acc: 0.646)\n"
          ]
        },
        {
          "name": "stderr",
          "output_type": "stream",
          "text": [
            "100%|██████████| 1426/1426 [00:05<00:00, 282.19it/s]\n"
          ]
        },
        {
          "name": "stdout",
          "output_type": "stream",
          "text": [
            "Epoch 21: train loss = 0.567 (acc: 0.747), validation loss = 0.787 (acc: 0.634)\n"
          ]
        },
        {
          "name": "stderr",
          "output_type": "stream",
          "text": [
            "100%|██████████| 1426/1426 [00:05<00:00, 267.43it/s]\n"
          ]
        },
        {
          "name": "stdout",
          "output_type": "stream",
          "text": [
            "Epoch 22: train loss = 0.560 (acc: 0.753), validation loss = 0.804 (acc: 0.642)\n"
          ]
        },
        {
          "name": "stderr",
          "output_type": "stream",
          "text": [
            "100%|██████████| 1426/1426 [00:05<00:00, 272.39it/s]\n"
          ]
        },
        {
          "name": "stdout",
          "output_type": "stream",
          "text": [
            "Epoch 23: train loss = 0.548 (acc: 0.758), validation loss = 0.809 (acc: 0.633)\n"
          ]
        },
        {
          "name": "stderr",
          "output_type": "stream",
          "text": [
            "100%|██████████| 1426/1426 [00:05<00:00, 280.78it/s]\n"
          ]
        },
        {
          "name": "stdout",
          "output_type": "stream",
          "text": [
            "Epoch 24: train loss = 0.545 (acc: 0.754), validation loss = 0.809 (acc: 0.639)\n"
          ]
        },
        {
          "name": "stderr",
          "output_type": "stream",
          "text": [
            "100%|██████████| 1426/1426 [00:04<00:00, 285.46it/s]\n"
          ]
        },
        {
          "name": "stdout",
          "output_type": "stream",
          "text": [
            "Epoch 25: train loss = 0.539 (acc: 0.763), validation loss = 0.817 (acc: 0.628)\n"
          ]
        },
        {
          "name": "stderr",
          "output_type": "stream",
          "text": [
            "100%|██████████| 1426/1426 [00:05<00:00, 280.39it/s]\n"
          ]
        },
        {
          "name": "stdout",
          "output_type": "stream",
          "text": [
            "Epoch 26: train loss = 0.549 (acc: 0.762), validation loss = 0.855 (acc: 0.617)\n"
          ]
        },
        {
          "name": "stderr",
          "output_type": "stream",
          "text": [
            "100%|██████████| 1426/1426 [00:04<00:00, 298.22it/s]\n"
          ]
        },
        {
          "name": "stdout",
          "output_type": "stream",
          "text": [
            "Epoch 27: train loss = 0.533 (acc: 0.767), validation loss = 0.825 (acc: 0.623)\n"
          ]
        },
        {
          "name": "stderr",
          "output_type": "stream",
          "text": [
            "100%|██████████| 1426/1426 [00:05<00:00, 273.80it/s]\n"
          ]
        },
        {
          "name": "stdout",
          "output_type": "stream",
          "text": [
            "Epoch 28: train loss = 0.523 (acc: 0.769), validation loss = 0.824 (acc: 0.621)\n"
          ]
        },
        {
          "name": "stderr",
          "output_type": "stream",
          "text": [
            "100%|██████████| 1426/1426 [00:05<00:00, 258.25it/s]\n"
          ]
        },
        {
          "name": "stdout",
          "output_type": "stream",
          "text": [
            "Epoch 29: train loss = 0.535 (acc: 0.759), validation loss = 0.839 (acc: 0.627)\n"
          ]
        }
      ],
      "source": [
        "input_dim = 100\n",
        "hidden_dim = [32, 16]\n",
        "output_dim = 3\n",
        "n_layers = 2\n",
        "learning_rate = 0.001\n",
        "\n",
        "model = LSTMModel(input_dim, hidden_dim, output_dim, n_layers).to(device)\n",
        "criterion = nn.CrossEntropyLoss()\n",
        "optimizer = optim.Adam(model.parameters(), lr=learning_rate)\n",
        "\n",
        "(\n",
        "    epoch_emotion,\n",
        "    train_loss_emotion,\n",
        "    val_loss_emotion,\n",
        "    train_acc_emotion,\n",
        "    val_acc_emotion,\n",
        "    max_acc_emotion,\n",
        ") = fit(model, optimizer, criterion, train_loader, val_loader, epochs=30)"
      ]
    },
    {
      "cell_type": "code",
      "execution_count": null,
      "metadata": {},
      "outputs": [
        {
          "data": {
            "image/png": "[encoded data removed]",
            "text/plain": [
              "<Figure size 1500x500 with 2 Axes>"
            ]
          },
          "metadata": {},
          "output_type": "display_data"
        }
      ],
      "source": [
        "import matplotlib.pyplot as plt\n",
        "\n",
        "fig, axs = plt.subplots(1, 2, figsize=(15, 5))\n",
        "axs[0].plot(\n",
        "    epoch_emotion,\n",
        "    train_acc_emotion,\n",
        "    color=\"red\",\n",
        "    linestyle=\"-.\",\n",
        "    label=\"train accuracy\",\n",
        ")\n",
        "axs[0].plot(\n",
        "    epoch_emotion,\n",
        "    val_acc_emotion,\n",
        "    color=\"red\",\n",
        "    linestyle=\"-\",\n",
        "    label=\"validation accuracy\",\n",
        ")\n",
        "axs[0].legend()\n",
        "axs[0].set_xlabel(\"epoch\")\n",
        "axs[0].set_ylabel(\"accuracy\")\n",
        "axs[1].plot(\n",
        "    epoch_emotion,\n",
        "    train_loss_emotion,\n",
        "    color=\"green\",\n",
        "    linestyle=\"-.\",\n",
        "    label=\"train loss\",\n",
        ")\n",
        "axs[1].plot(\n",
        "    epoch_emotion,\n",
        "    val_loss_emotion,\n",
        "    color=\"green\",\n",
        "    linestyle=\"-\",\n",
        "    label=\"validation loss\",\n",
        ")\n",
        "axs[1].legend()\n",
        "axs[1].set_xlabel(\"epoch\")\n",
        "axs[1].set_ylabel(\"loss\")\n",
        "plt.suptitle(\"Accuracy for emotion classification\", fontsize=20)\n",
        "plt.show()"
      ]
    },
    {
      "cell_type": "markdown",
      "metadata": {},
      "source": [
        "#### Ironia (Irony)\n"
      ]
    },
    {
      "cell_type": "code",
      "execution_count": null,
      "metadata": {
        "id": "1Syr87r2-tSO"
      },
      "outputs": [],
      "source": [
        "TRAIN_TEXT_IRONY = \"tweeteval/datasets/irony/train_text.txt\"\n",
        "TRAIN_LABELS_IRONY = \"tweeteval/datasets/irony/train_labels.txt\"\n",
        "VAL_TEXT_IRONY = \"tweeteval/datasets/irony/test_text.txt\"\n",
        "VAL_LABELS_IRONY = \"tweeteval/datasets/irony/test_labels.txt\"\n",
        "\n",
        "train_loader = create_loader(TRAIN_TEXT_IRONY, TRAIN_LABELS_IRONY, batch_size=32)\n",
        "val_loader = create_loader(VAL_TEXT_IRONY, VAL_LABELS_IRONY, batch_size=32)"
      ]
    },
    {
      "cell_type": "code",
      "execution_count": null,
      "metadata": {},
      "outputs": [
        {
          "name": "stderr",
          "output_type": "stream",
          "text": [
            "100%|██████████| 1407/1407 [00:04<00:00, 284.06it/s]\n"
          ]
        },
        {
          "name": "stdout",
          "output_type": "stream",
          "text": [
            "Epoch 0: train loss = 2.766 (acc: 0.204), validation loss = 2.772 (acc: 0.216)\n"
          ]
        },
        {
          "name": "stderr",
          "output_type": "stream",
          "text": [
            "100%|██████████| 1407/1407 [00:05<00:00, 243.42it/s]\n"
          ]
        },
        {
          "name": "stdout",
          "output_type": "stream",
          "text": [
            "Epoch 1: train loss = 2.577 (acc: 0.246), validation loss = 2.566 (acc: 0.239)\n"
          ]
        },
        {
          "name": "stderr",
          "output_type": "stream",
          "text": [
            "100%|██████████| 1407/1407 [00:05<00:00, 270.43it/s]\n"
          ]
        },
        {
          "name": "stdout",
          "output_type": "stream",
          "text": [
            "Epoch 2: train loss = 2.525 (acc: 0.257), validation loss = 2.518 (acc: 0.252)\n"
          ]
        },
        {
          "name": "stderr",
          "output_type": "stream",
          "text": [
            "100%|██████████| 1407/1407 [00:05<00:00, 277.32it/s]\n"
          ]
        },
        {
          "name": "stdout",
          "output_type": "stream",
          "text": [
            "Epoch 3: train loss = 2.520 (acc: 0.259), validation loss = 2.512 (acc: 0.253)\n"
          ]
        },
        {
          "name": "stderr",
          "output_type": "stream",
          "text": [
            "100%|██████████| 1407/1407 [00:05<00:00, 261.81it/s]\n"
          ]
        },
        {
          "name": "stdout",
          "output_type": "stream",
          "text": [
            "Epoch 4: train loss = 2.503 (acc: 0.262), validation loss = 2.504 (acc: 0.255)\n"
          ]
        },
        {
          "name": "stderr",
          "output_type": "stream",
          "text": [
            "100%|██████████| 1407/1407 [00:04<00:00, 285.19it/s]\n"
          ]
        },
        {
          "name": "stdout",
          "output_type": "stream",
          "text": [
            "Epoch 5: train loss = 2.500 (acc: 0.271), validation loss = 2.500 (acc: 0.260)\n"
          ]
        },
        {
          "name": "stderr",
          "output_type": "stream",
          "text": [
            "100%|██████████| 1407/1407 [00:04<00:00, 289.08it/s]\n"
          ]
        },
        {
          "name": "stdout",
          "output_type": "stream",
          "text": [
            "Epoch 6: train loss = 2.495 (acc: 0.269), validation loss = 2.486 (acc: 0.259)\n"
          ]
        },
        {
          "name": "stderr",
          "output_type": "stream",
          "text": [
            "100%|██████████| 1407/1407 [00:04<00:00, 285.49it/s]\n"
          ]
        },
        {
          "name": "stdout",
          "output_type": "stream",
          "text": [
            "Epoch 7: train loss = 2.490 (acc: 0.282), validation loss = 2.480 (acc: 0.271)\n"
          ]
        },
        {
          "name": "stderr",
          "output_type": "stream",
          "text": [
            "100%|██████████| 1407/1407 [00:05<00:00, 270.37it/s]\n"
          ]
        },
        {
          "name": "stdout",
          "output_type": "stream",
          "text": [
            "Epoch 8: train loss = 2.466 (acc: 0.292), validation loss = 2.468 (acc: 0.280)\n"
          ]
        },
        {
          "name": "stderr",
          "output_type": "stream",
          "text": [
            "100%|██████████| 1407/1407 [00:05<00:00, 261.10it/s]\n"
          ]
        },
        {
          "name": "stdout",
          "output_type": "stream",
          "text": [
            "Epoch 9: train loss = 2.461 (acc: 0.295), validation loss = 2.467 (acc: 0.282)\n"
          ]
        },
        {
          "name": "stderr",
          "output_type": "stream",
          "text": [
            "100%|██████████| 1407/1407 [00:05<00:00, 271.80it/s]\n"
          ]
        },
        {
          "name": "stdout",
          "output_type": "stream",
          "text": [
            "Epoch 10: train loss = 2.435 (acc: 0.303), validation loss = 2.448 (acc: 0.286)\n"
          ]
        },
        {
          "name": "stderr",
          "output_type": "stream",
          "text": [
            "100%|██████████| 1407/1407 [00:05<00:00, 257.57it/s]\n"
          ]
        },
        {
          "name": "stdout",
          "output_type": "stream",
          "text": [
            "Epoch 11: train loss = 2.393 (acc: 0.322), validation loss = 2.370 (acc: 0.327)\n"
          ]
        },
        {
          "name": "stderr",
          "output_type": "stream",
          "text": [
            "100%|██████████| 1407/1407 [00:05<00:00, 268.65it/s]\n"
          ]
        },
        {
          "name": "stdout",
          "output_type": "stream",
          "text": [
            "Epoch 12: train loss = 2.371 (acc: 0.331), validation loss = 2.359 (acc: 0.331)\n"
          ]
        },
        {
          "name": "stderr",
          "output_type": "stream",
          "text": [
            "100%|██████████| 1407/1407 [00:05<00:00, 280.39it/s]\n"
          ]
        },
        {
          "name": "stdout",
          "output_type": "stream",
          "text": [
            "Epoch 13: train loss = 2.378 (acc: 0.330), validation loss = 2.363 (acc: 0.330)\n"
          ]
        },
        {
          "name": "stderr",
          "output_type": "stream",
          "text": [
            "100%|██████████| 1407/1407 [00:04<00:00, 292.08it/s]\n"
          ]
        },
        {
          "name": "stdout",
          "output_type": "stream",
          "text": [
            "Epoch 14: train loss = 2.350 (acc: 0.339), validation loss = 2.347 (acc: 0.336)\n"
          ]
        },
        {
          "name": "stderr",
          "output_type": "stream",
          "text": [
            "100%|██████████| 1407/1407 [00:04<00:00, 292.58it/s]\n"
          ]
        },
        {
          "name": "stdout",
          "output_type": "stream",
          "text": [
            "Epoch 15: train loss = 2.344 (acc: 0.341), validation loss = 2.357 (acc: 0.334)\n"
          ]
        },
        {
          "name": "stderr",
          "output_type": "stream",
          "text": [
            "100%|██████████| 1407/1407 [00:07<00:00, 198.82it/s]\n"
          ]
        },
        {
          "name": "stdout",
          "output_type": "stream",
          "text": [
            "Epoch 16: train loss = 2.334 (acc: 0.345), validation loss = 2.341 (acc: 0.338)\n"
          ]
        },
        {
          "name": "stderr",
          "output_type": "stream",
          "text": [
            "100%|██████████| 1407/1407 [00:06<00:00, 203.13it/s]\n"
          ]
        },
        {
          "name": "stdout",
          "output_type": "stream",
          "text": [
            "Epoch 17: train loss = 2.327 (acc: 0.348), validation loss = 2.334 (acc: 0.343)\n"
          ]
        },
        {
          "name": "stderr",
          "output_type": "stream",
          "text": [
            "100%|██████████| 1407/1407 [00:06<00:00, 215.26it/s]\n"
          ]
        },
        {
          "name": "stdout",
          "output_type": "stream",
          "text": [
            "Epoch 18: train loss = 2.250 (acc: 0.360), validation loss = 2.295 (acc: 0.332)\n"
          ]
        },
        {
          "name": "stderr",
          "output_type": "stream",
          "text": [
            "100%|██████████| 1407/1407 [00:04<00:00, 296.22it/s]\n"
          ]
        },
        {
          "name": "stdout",
          "output_type": "stream",
          "text": [
            "Epoch 19: train loss = 2.234 (acc: 0.363), validation loss = 2.284 (acc: 0.335)\n"
          ]
        },
        {
          "name": "stderr",
          "output_type": "stream",
          "text": [
            "100%|██████████| 1407/1407 [00:04<00:00, 295.71it/s]\n"
          ]
        },
        {
          "name": "stdout",
          "output_type": "stream",
          "text": [
            "Epoch 20: train loss = 2.222 (acc: 0.366), validation loss = 2.289 (acc: 0.335)\n"
          ]
        },
        {
          "name": "stderr",
          "output_type": "stream",
          "text": [
            "100%|██████████| 1407/1407 [00:04<00:00, 287.58it/s]\n"
          ]
        },
        {
          "name": "stdout",
          "output_type": "stream",
          "text": [
            "Epoch 21: train loss = 2.212 (acc: 0.371), validation loss = 2.281 (acc: 0.340)\n"
          ]
        },
        {
          "name": "stderr",
          "output_type": "stream",
          "text": [
            "100%|██████████| 1407/1407 [00:04<00:00, 282.74it/s]\n"
          ]
        },
        {
          "name": "stdout",
          "output_type": "stream",
          "text": [
            "Epoch 22: train loss = 2.204 (acc: 0.374), validation loss = 2.290 (acc: 0.338)\n"
          ]
        },
        {
          "name": "stderr",
          "output_type": "stream",
          "text": [
            "100%|██████████| 1407/1407 [00:05<00:00, 263.39it/s]\n"
          ]
        },
        {
          "name": "stdout",
          "output_type": "stream",
          "text": [
            "Epoch 23: train loss = 2.202 (acc: 0.374), validation loss = 2.295 (acc: 0.335)\n"
          ]
        },
        {
          "name": "stderr",
          "output_type": "stream",
          "text": [
            "100%|██████████| 1407/1407 [00:05<00:00, 251.51it/s]\n"
          ]
        },
        {
          "name": "stdout",
          "output_type": "stream",
          "text": [
            "Epoch 24: train loss = 2.186 (acc: 0.379), validation loss = 2.294 (acc: 0.336)\n"
          ]
        },
        {
          "name": "stderr",
          "output_type": "stream",
          "text": [
            "100%|██████████| 1407/1407 [00:04<00:00, 283.79it/s]\n"
          ]
        },
        {
          "name": "stdout",
          "output_type": "stream",
          "text": [
            "Epoch 25: train loss = 2.200 (acc: 0.371), validation loss = 2.303 (acc: 0.334)\n"
          ]
        },
        {
          "name": "stderr",
          "output_type": "stream",
          "text": [
            "100%|██████████| 1407/1407 [00:05<00:00, 272.17it/s]\n"
          ]
        },
        {
          "name": "stdout",
          "output_type": "stream",
          "text": [
            "Epoch 26: train loss = 2.175 (acc: 0.385), validation loss = 2.287 (acc: 0.337)\n"
          ]
        },
        {
          "name": "stderr",
          "output_type": "stream",
          "text": [
            "100%|██████████| 1407/1407 [00:05<00:00, 265.52it/s]\n"
          ]
        },
        {
          "name": "stdout",
          "output_type": "stream",
          "text": [
            "Epoch 27: train loss = 2.161 (acc: 0.382), validation loss = 2.278 (acc: 0.345)\n"
          ]
        },
        {
          "name": "stderr",
          "output_type": "stream",
          "text": [
            "100%|██████████| 1407/1407 [00:05<00:00, 264.76it/s]\n"
          ]
        },
        {
          "name": "stdout",
          "output_type": "stream",
          "text": [
            "Epoch 28: train loss = 2.149 (acc: 0.391), validation loss = 2.282 (acc: 0.340)\n"
          ]
        },
        {
          "name": "stderr",
          "output_type": "stream",
          "text": [
            "100%|██████████| 1407/1407 [00:05<00:00, 272.14it/s]\n"
          ]
        },
        {
          "name": "stdout",
          "output_type": "stream",
          "text": [
            "Epoch 29: train loss = 2.151 (acc: 0.391), validation loss = 2.296 (acc: 0.341)\n"
          ]
        }
      ],
      "source": [
        "input_dim = 100\n",
        "hidden_dim = [32, 16]\n",
        "output_dim = 20\n",
        "n_layers = 2\n",
        "learning_rate = 0.001\n",
        "\n",
        "model = LSTMModel(input_dim, hidden_dim, output_dim, n_layers).to(device)\n",
        "criterion = nn.CrossEntropyLoss()\n",
        "optimizer = optim.Adam(model.parameters(), lr=learning_rate)\n",
        "\n",
        "(\n",
        "    epoch_irony,\n",
        "    train_loss_irony,\n",
        "    val_loss_irony,\n",
        "    train_acc_irony,\n",
        "    val_acc_irony,\n",
        "    max_acc_irony,\n",
        ") = fit(model, optimizer, criterion, train_loader, val_loader, epochs=30)"
      ]
    },
    {
      "cell_type": "code",
      "execution_count": null,
      "metadata": {},
      "outputs": [
        {
          "data": {
            "image/png": "[encoded data removed]",
            "text/plain": [
              "<Figure size 1500x500 with 2 Axes>"
            ]
          },
          "metadata": {},
          "output_type": "display_data"
        }
      ],
      "source": [
        "fig, axs = plt.subplots(1, 2, figsize=(15, 5))\n",
        "axs[0].plot(\n",
        "    epoch_irony, train_acc_irony, color=\"red\", linestyle=\"-.\", label=\"train accuracy\"\n",
        ")\n",
        "axs[0].plot(\n",
        "    epoch_irony, val_acc_irony, color=\"red\", linestyle=\"-\", label=\"validation accuracy\"\n",
        ")\n",
        "axs[0].legend()\n",
        "axs[0].set_xlabel(\"epoch\")\n",
        "axs[0].set_ylabel(\"accuracy\")\n",
        "axs[1].plot(\n",
        "    epoch_irony, train_loss_irony, color=\"green\", linestyle=\"-.\", label=\"train loss\"\n",
        ")\n",
        "axs[1].plot(\n",
        "    epoch_irony, val_loss_irony, color=\"green\", linestyle=\"-\", label=\"validation loss\"\n",
        ")\n",
        "axs[1].legend()\n",
        "axs[1].set_xlabel(\"epoch\")\n",
        "axs[1].set_ylabel(\"loss\")\n",
        "plt.suptitle(\"Accuracy and loss for irony classification\", fontsize=20)\n",
        "plt.show()"
      ]
    },
    {
      "cell_type": "markdown",
      "metadata": {
        "id": "bvy1SbHQ-lFs"
      },
      "source": [
        "## Trenowanie modeli LR (fastText) dla ZJAWISKO_1 i ZJAWISKO_2 (2 pkt.)\n"
      ]
    },
    {
      "cell_type": "markdown",
      "metadata": {},
      "source": [
        "#### Emocje (Emotion)\n"
      ]
    },
    {
      "cell_type": "code",
      "execution_count": null,
      "metadata": {
        "id": "0V4g2jmv-weV"
      },
      "outputs": [
        {
          "name": "stdout",
          "output_type": "stream",
          "text": [
            "mkdir: cannot create directory ‘sentiment_folder’: File exists\n",
            "Warning : dim is manually set to a specific value. It will not be automatically optimized.\n",
            "Progress: 100.0% Trials:   11 Best score:  0.682500 ETA:   0h 0m 0s 0.682500 ETA:   0h 3m53s\n",
            "Training again with best arguments\n",
            "Read 0M words\n",
            "Number of words:  106361\n",
            "Number of labels: 3\n",
            "Progress: 100.0% words/sec/thread: 1701113 lr:  0.000000 avg.loss:  0.635277 ETA:   0h 0m 0s\n"
          ]
        }
      ],
      "source": [
        "!mkdir emotion_dir && cd emotion_dir && mkdir data\n",
        "\n",
        "!sed 's/^/__label__/g' tweeteval/datasets/emotion/train_labels.txt > emotion_dir/data/train_labels_emotion.txt\n",
        "!sed 's/^/__label__/g' tweeteval/datasets/emotion/test_labels.txt > emotion_dir/data/test_labels_emotion.txt\n",
        "!sed 's/^/__label__/g' tweeteval/datasets/emotion/val_labels.txt > emotion_dir/data/val_labels_emotion.txt\n",
        "\n",
        "!paste -d \" \" tweeteval/datasets/emotion/train_text.txt emotion_dir/data/train_labels_emotion.txt > emotion_dir/data/train_emotion.txt\n",
        "!paste -d \" \" tweeteval/datasets/emotion/test_text.txt emotion_dir/data/test_labels_emotion.txt > emotion_dir/data/test_emotion.txt\n",
        "!paste -d \" \" tweeteval/datasets/emotion/val_text.txt emotion_dir/data/val_labels_emotion.txt > emotion_dir/data/val_emotion.txt\n",
        "\n",
        "!fasttext supervised -input emotion_dir/data/train_emotion.txt -output emotion_dir/emotion_model -dim 100 -pretrainedVectors fasttext_tweetmodel_btc_sg_100_en.vec -autotune-validation emotion_dir/data/val_emotion.txt"
      ]
    },
    {
      "cell_type": "markdown",
      "metadata": {},
      "source": [
        "#### Ironia (Irony)\n"
      ]
    },
    {
      "cell_type": "code",
      "execution_count": null,
      "metadata": {},
      "outputs": [
        {
          "name": "stdout",
          "output_type": "stream",
          "text": [
            "sed: can't read tweeteval/datasets/irony/train_labels.txt: No such file or directory\n",
            "sed: can't read tweeteval/datasets/irony/test_labels.txt: No such file or directory\n",
            "sed: can't read tweeteval/datasets/irony/val_labels.txt: No such file or directory\n",
            "paste: tweeteval/datasets/irony/train_text.txt: No such file or directory\n",
            "paste: tweeteval/datasets/irony/test_text.txt: No such file or directory\n",
            "paste: tweeteval/datasets/irony/val_text.txt: No such file or directory\n",
            "Warning : dim is manually set to a specific value. It will not be automatically optimized.\n",
            "terminate called after throwing an instance of 'std::invalid_argument'\n",
            "  what():  Empty vocabulary. Try a smaller -minCount value.\n"
          ]
        }
      ],
      "source": [
        "!mkdir irony_dir && cd irony_dir && mkdir data\n",
        "\n",
        "!sed 's/^/__label__/g' tweeteval/datasets/irony/train_labels.txt > irony_dir/data/train_labels_irony.txt\n",
        "!sed 's/^/__label__/g' tweeteval/datasets/irony/test_labels.txt > irony_dir/data/test_labels_irony.txt\n",
        "!sed 's/^/__label__/g' tweeteval/datasets/irony/val_labels.txt > irony_dir/data/val_labels_irony.txt\n",
        "\n",
        "!paste -d \" \" tweeteval/datasets/irony/train_text.txt irony_dir/data/train_labels_irony.txt > irony_dir/data/train_irony.txt\n",
        "!paste -d \" \" tweeteval/datasets/irony/test_text.txt irony_dir/data/test_labels_irony.txt > irony_dir/data/test_irony.txt\n",
        "!paste -d \" \" tweeteval/datasets/irony/val_text.txt irony_dir/data/val_labels_irony.txt > irony_dir/data/val_irony.txt\n",
        "\n",
        "!fasttext supervised -input irony_dir/data/train_irony.txt -output irony_dir/irony_model -dim 100 -pretrainedVectors fasttext_tweetmodel_btc_sg_100_en.vec -autotune-validation irony_dir/data/val_irony.txt"
      ]
    },
    {
      "cell_type": "markdown",
      "metadata": {
        "id": "8neBnDzU-4o9"
      },
      "source": [
        "## Ewaluacja modeli na danych testowych dla zjawiska ZJAWISKO_1 (2 pkt.)\n"
      ]
    },
    {
      "cell_type": "code",
      "execution_count": null,
      "metadata": {
        "id": "7wkbdG93_FxE"
      },
      "outputs": [
        {
          "name": "stdout",
          "output_type": "stream",
          "text": [
            "mkdir: cannot create directory ‘predictions’: File exists\n",
            "0 {'precision': 0.6119437939110071, 'recall': 0.6578549848942599, 'f1-score': 0.6340694006309149, 'support': 3972.0}\n",
            "1 {'precision': 0.6606950913651021, 'recall': 0.6211891527707596, 'f1-score': 0.6403333622710304, 'support': 5937.0}\n",
            "2 {'precision': 0.59375, 'recall': 0.608, 'f1-score': 0.6007905138339921, 'support': 2375.0}\n",
            "accuracy 0.6304949527841094\n",
            "macro avg {'precision': 0.6221296284253697, 'recall': 0.6290147125550064, 'f1-score': 0.6250644255786458, 'support': 12284.0}\n",
            "weighted avg {'precision': 0.6319882576399488, 'recall': 0.6304949527841094, 'f1-score': 0.6306626751436691, 'support': 12284.0}\n",
            "------------------------------\n",
            "TweetEval Score (sentiment): 0.6290147125550064\n"
          ]
        }
      ],
      "source": [
        "!cd emotion_dir && mkdir predictions\n",
        "\n",
        "!fasttext predict emotion_dir/emotion_model.bin tweeteval/datasets/emotion/test_text.txt | sed 's/__label__//g' > emotion_dir/predictions/emotion.txt\n",
        "\n",
        "!python tweeteval/evaluation_script.py --tweeteval_path tweeteval/datasets --predictions_path emotion_dir/predictions --task emotion"
      ]
    },
    {
      "cell_type": "markdown",
      "metadata": {
        "id": "qIHyGqMM_HaE"
      },
      "source": [
        "## Ewaluacja modeli na danych testowych dla zjawiska ZJAWISKO_2 (2 pkt.)\n"
      ]
    },
    {
      "cell_type": "code",
      "execution_count": null,
      "metadata": {
        "id": "MQ8yTGuu_Ird"
      },
      "outputs": [
        {
          "name": "stdout",
          "output_type": "stream",
          "text": [
            "home/piotr/venvy/DL_LAB1012/lib/python3.10/site-packages/sklearn/metrics/_classification.py:1517: UndefinedMetricWarning: Precision is ill-defined and being set to 0.0 in labels with no predicted samples. Use `zero_division` parameter to control this behavior.\n",
            "  _warn_prf(average, modifier, f\"{metric.capitalize()} is\", len(result))\n",
            "home/piotr/venvy/DL_LAB1012/lib/python3.10/site-packages/sklearn/metrics/_classification.py:1517: UndefinedMetricWarning: Precision is ill-defined and being set to 0.0 in labels with no predicted samples. Use `zero_division` parameter to control this behavior.\n",
            "  _warn_prf(average, modifier, f\"{metric.capitalize()} is\", len(result))\n",
            "home/piotr/venvy/DL_LAB1012/lib/python3.10/site-packages/sklearn/metrics/_classification.py:1517: UndefinedMetricWarning: Precision is ill-defined and being set to 0.0 in labels with no predicted samples. Use `zero_division` parameter to control this behavior.\n",
            "  _warn_prf(average, modifier, f\"{metric.capitalize()} is\", len(result))\n",
            "0 {'precision': 0.7075646499637477, 'recall': 0.8133913687719948, 'f1-score': 0.7567963465598208, 'support': 10798.0}\n",
            "1 {'precision': 0.22390032093637907, 'recall': 0.4910973084886128, 'f1-score': 0.30757261410788383, 'support': 4830.0}\n",
            "10 {'precision': 0.27084723148765844, 'recall': 0.5670391061452514, 'f1-score': 0.36659142212189616, 'support': 1432.0}\n",
            "11 {'precision': 0.7090909090909091, 'recall': 0.24012314007183172, 'f1-score': 0.358758144883097, 'support': 1949.0}\n",
            "12 {'precision': 0.6770491803278689, 'recall': 0.3264822134387352, 'f1-score': 0.44053333333333333, 'support': 1265.0}\n",
            "13 {'precision': 0.0, 'recall': 0.0, 'f1-score': 0.0, 'support': 1114.0}\n",
            "14 {'precision': 0.15151515151515152, 'recall': 0.0038284839203675345, 'f1-score': 0.0074682598954443615, 'support': 1306.0}\n",
            "15 {'precision': 0.0, 'recall': 0.0, 'f1-score': 0.0, 'support': 1244.0}\n",
            "16 {'precision': 0.3333333333333333, 'recall': 0.0017346053772766695, 'f1-score': 0.003451251078515962, 'support': 1153.0}\n",
            "17 {'precision': 0.6650093225605966, 'recall': 0.6925566343042071, 'f1-score': 0.6785034876347495, 'support': 1545.0}\n",
            "18 {'precision': 0.27848101265822783, 'recall': 0.009102192800992967, 'f1-score': 0.017628205128205128, 'support': 2417.0}\n",
            "19 {'precision': 0.0, 'recall': 0.0, 'f1-score': 0.0, 'support': 1010.0}\n",
            "2 {'precision': 0.2743800019760893, 'recall': 0.6124834583149537, 'f1-score': 0.37898328215626065, 'support': 4534.0}\n",
            "3 {'precision': 0.22086824067022087, 'recall': 0.11132437619961612, 'f1-score': 0.14803471158754467, 'support': 2605.0}\n",
            "4 {'precision': 0.45347533632286996, 'recall': 0.4354144241119483, 'f1-score': 0.4442613948380011, 'support': 3716.0}\n",
            "5 {'precision': 0.10038610038610038, 'recall': 0.09671419714817112, 'f1-score': 0.09851594568992737, 'support': 1613.0}\n",
            "6 {'precision': 0.15907207953603977, 'recall': 0.09619238476953908, 'f1-score': 0.11988760536996566, 'support': 1996.0}\n",
            "7 {'precision': 0.2312180889861415, 'recall': 0.2306293197526373, 'f1-score': 0.23092332908395558, 'support': 2749.0}\n",
            "8 {'precision': 0.25806451612903225, 'recall': 0.005164622336991607, 'f1-score': 0.010126582278481013, 'support': 1549.0}\n",
            "9 {'precision': 0.13665943600867678, 'recall': 0.05361702127659575, 'f1-score': 0.07701711491442542, 'support': 1175.0}\n",
            "accuracy 0.3937\n",
            "macro avg {'precision': 0.2925457455944521, 'recall': 0.23934474286148616, 'f1-score': 0.22225265153307538, 'support': 50000.0}\n",
            "weighted avg {'precision': 0.3762136279758537, 'recall': 0.3937, 'f1-score': 0.3487510250093181, 'support': 50000.0}\n",
            "------------------------------\n",
            "TweetEval Score (emoji): 0.22225265153307538\n"
          ]
        }
      ],
      "source": [
        "!cd irony_dir && mkdir predictions\n",
        "\n",
        "!fasttext predict irony_dir/irony_model.bin tweeteval/datasets/irony/test_text.txt | sed 's/__label__//g' > irony_dir/predictions/irony.txt\n",
        "\n",
        "!python tweeteval/evaluation_script.py --tweeteval_path tweeteval/datasets --predictions_path irony_dir/predictions --task irony"
      ]
    }
  ],
  "metadata": {
    "colab": {
      "collapsed_sections": [],
      "name": "lab09.ipynb",
      "provenance": [],
      "toc_visible": true
    },
    "kernelspec": {
      "display_name": "Python 3",
      "name": "python3"
    },
    "language_info": {
      "codemirror_mode": {
        "name": "ipython",
        "version": 3
      },
      "file_extension": ".py",
      "mimetype": "text/x-python",
      "name": "python",
      "nbconvert_exporter": "python",
      "pygments_lexer": "ipython3",
      "version": "3.10.13"
    }
  },
  "nbformat": 4,
  "nbformat_minor": 0
}
