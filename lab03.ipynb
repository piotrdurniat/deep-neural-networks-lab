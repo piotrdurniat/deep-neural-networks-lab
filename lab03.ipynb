{
  "nbformat": 4,
  "nbformat_minor": 0,
  "metadata": {
    "colab": {
      "provenance": []
    },
    "kernelspec": {
      "name": "python3",
      "display_name": "Python 3"
    },
    "accelerator": "GPU"
  },
  "cells": [
    {
      "cell_type": "markdown",
      "metadata": {
        "id": "l1koAEgYAJr-"
      },
      "source": [
        "# Wstęp\n",
        "\n",
        "Na poprzednich zajęciach nauczyłeś(aś) się jak skonstruować od zera podstawową komórkę sieci neuronowej - Perceptron. Na tych zajęciach przejdziemy już do wykorzystywania bardziej zaawansowanych funkcji PyTorcha, które przydają się na codzień do konstruowania sieci neuronowych.\n",
        "\n",
        "## Cel ćwiczenia\n",
        "\n",
        "Celem ćwiczenia jest zapoznanie z podstawowymi funkcjami biblioteki PyTorch do tworzenia i uczenia sieci neuronowych a w szczególności z:\n",
        "*   Automatycznym liczeniem gradientów i grafem obliczeniowym (autograd)\n",
        "*   Algorytmami off-line, on-line a także pojęciem mini-batch\n",
        "*   Algorytmami optymalizacji sieci neuronowych\n",
        "*   Liczeniem wartości fuknkcji straty\n",
        "*   Przekształceniami nieliniowymi\n",
        "*   Modułem `torch.nn`\n",
        "\n",
        "## Warunki zaliczenia\n",
        "\n",
        "W celu zaliczenia ćwiczeń należy uzupełnić wszystkie brakujące elementu kodu, wykonać wszystkie polecenia i wyuczyć model.\n"
      ]
    },
    {
      "cell_type": "code",
      "metadata": {
        "id": "kUJ1zQQXs7ip"
      },
      "source": [
        "import math\n",
        "import warnings\n",
        "from typing import Tuple\n",
        "\n",
        "import torch\n",
        "import torch.nn.functional as F\n",
        "from sklearn.model_selection import train_test_split\n",
        "from sklearn.datasets import load_iris\n",
        "from torch import nn\n",
        "from torch import optim\n",
        "from torch.utils.data import TensorDataset, DataLoader\n",
        "\n",
        "assert torch.cuda.is_available(), \"Uruchom środowisko wykonawcze na GPU\""
      ],
      "execution_count": 1,
      "outputs": []
    },
    {
      "cell_type": "markdown",
      "metadata": {
        "id": "er1hgYZsm5-6"
      },
      "source": [
        "# Autograd - automatyczne liczenie gradientów\n",
        "\n",
        "Na poprzednich laboratoriach implementowałeś(aś) funkcję wstecznej propagacji. W tym celu liczyłaś(eś) pochodne (gradienty). Przyjrzyjmy się najpierw funkcji\n",
        "$$f(x, y) = 3x^2 + y^3$$\n",
        "Możemy tę funkcję różniczkować po dwóch zmiennych: $x$ i $y$:\n",
        "$$\\frac{\\partial f}{\\partial x} = 6x$$\n",
        "\n",
        "$$\\frac{\\partial f}{\\partial y} = 3y^2$$\n",
        "\n",
        "Jeżeli funkcję $f(x,y)$ złożymy z funkcją $g(x) = x^2$ tworząc funkcję $h(x, y) = f(g(x), y)$ to z **reguły łańcuchowej** pochodna takiej funkcji wyniesie:\n",
        "\n",
        "$$\\frac{\\partial h}{\\partial x} = \\frac{\\partial f}{\\partial g} \\frac{\\partial g}{\\partial x} = (6 (x^2)) (2 x) = 12 x^3$$\n",
        "\n",
        "Tego typu obliczenia przy wielu warstwach sieci (a więc przy wielu złożeniach funkcji liniowych i nieliniowych) stają się mocno skomplikowane. Na szczęście PyToch dostarcza `torch.autograd` - silnik do zaumatyzowanego liczenia gradientów. Jak on działa? Najpierw zdefiniujmy wektory $\\mathbf x$ i $\\mathbf y$."
      ]
    },
    {
      "cell_type": "code",
      "metadata": {
        "id": "SRkbe7sPm5dL"
      },
      "source": [
        "x = torch.tensor([0., 1., 5.], requires_grad=True)\n",
        "y = torch.tensor([8., 2., 4.], requires_grad=True)"
      ],
      "execution_count": 5,
      "outputs": []
    },
    {
      "cell_type": "markdown",
      "metadata": {
        "id": "Z6L2Lx63vTOn"
      },
      "source": [
        "Zauważ, że tworząc tensor przekazaliśmy parametr `requires_grad=True`. Sprawia on, że wszystkie operacje dokonane na tym tensorze są śledzone i tensor wynikowy będzie \"pamiętał\" przy użyciu jakiej operacji powstał. Policzmy naszą funkcję $f( \\mathbf x, \\mathbf y)$ dla tych tensorów."
      ]
    },
    {
      "cell_type": "code",
      "metadata": {
        "id": "_FE9yAWMvR4Q",
        "colab": {
          "base_uri": "https://localhost:8080/",
          "height": 0
        },
        "outputId": "2c9c43e7-b5a4-4d68-eaee-27cdf6627760"
      },
      "source": [
        "z = 3*x**2 + y**3\n",
        "z"
      ],
      "execution_count": 13,
      "outputs": [
        {
          "output_type": "execute_result",
          "data": {
            "text/plain": [
              "tensor([512.,  11., 139.], grad_fn=<AddBackward0>)"
            ]
          },
          "metadata": {},
          "execution_count": 13
        }
      ]
    },
    {
      "cell_type": "markdown",
      "metadata": {
        "id": "C4aNNpt8xqpk"
      },
      "source": [
        "Jak widać uzyskany tensor ma także zapisany parametr `grad_fn=<AddBackward0>`, czyli że powstał z dodania dwóch tensorów - dodawanie jest ostatnią operacją, która zostałą wykonana, żeby otrzymać ten tensor. Dokonajmy propagacji wstecznej w celu policzenia gradientów.\n"
      ]
    },
    {
      "cell_type": "code",
      "metadata": {
        "id": "b1_vOt2yxqHb",
        "colab": {
          "base_uri": "https://localhost:8080/",
          "height": 0
        },
        "outputId": "79c74a57-79d4-4774-cdb5-2722d915b935"
      },
      "source": [
        "grad_tensors = torch.tensor([1., 1., 1.])\n",
        "z.backward(grad_tensors)\n",
        "print(x.grad == 6*x)\n",
        "print(y.grad == 3*y**2)"
      ],
      "execution_count": 14,
      "outputs": [
        {
          "output_type": "stream",
          "name": "stdout",
          "text": [
            "tensor([ True, False, False])\n",
            "tensor([False, False, False])\n"
          ]
        }
      ]
    },
    {
      "cell_type": "markdown",
      "metadata": {
        "id": "kqqmScaJQoZ3"
      },
      "source": [
        "Na razie nie przejmuj się tym za co odpowiada `grad_tensors`. Policzmy wartość funkcji $h$.\n",
        "\n"
      ]
    },
    {
      "cell_type": "code",
      "metadata": {
        "id": "8OtdWj0Y7XGa",
        "colab": {
          "base_uri": "https://localhost:8080/",
          "height": 0
        },
        "outputId": "63ef961f-1cd5-468c-98a5-675567ae4a5b"
      },
      "source": [
        "a = 3*(x**2)**2 + y**3\n",
        "a.backward(grad_tensors)\n",
        "print(x.grad)\n",
        "print(12*(x**3))\n",
        "print(x.grad == 12*(x**3))"
      ],
      "execution_count": 9,
      "outputs": [
        {
          "output_type": "stream",
          "name": "stdout",
          "text": [
            "tensor([   0.,   48., 6000.])\n",
            "tensor([   0.,   12., 1500.], grad_fn=<MulBackward0>)\n",
            "tensor([ True, False, False])\n"
          ]
        }
      ]
    },
    {
      "cell_type": "markdown",
      "metadata": {
        "id": "tgIDyhN4RanY"
      },
      "source": [
        "Nie zgadzają nam się wartości. Wynika to z kolejnej właśności pytorchowego autograda - gradienty w tensorach są **akumulowane**. Jak wykonasz powyższą komórkę wielekrotnie to zobaczysz że wartości `x.grad` rosną dokładnie o $12x_i^3$ po każdym wykonaniu. Akumulacja gradientów jest przydatna w niektórych architekturach sieci neuronowych. Dlatego też trzeba *explicite* wyzerować gradienty."
      ]
    },
    {
      "cell_type": "code",
      "metadata": {
        "id": "83kl2IWHO491",
        "colab": {
          "base_uri": "https://localhost:8080/",
          "height": 0
        },
        "outputId": "8a62c576-b20a-40f0-b95a-33dcd3567ae0"
      },
      "source": [
        "x.grad.data.zero_()\n",
        "a = 3*(x**2)**2 + y**3\n",
        "a.backward(grad_tensors)\n",
        "print(x.grad)\n",
        "print(12*(x**3))\n",
        "assert (x.grad == 12*(x**3)).all()"
      ],
      "execution_count": 10,
      "outputs": [
        {
          "output_type": "stream",
          "name": "stdout",
          "text": [
            "tensor([   0.,   12., 1500.])\n",
            "tensor([   0.,   12., 1500.], grad_fn=<MulBackward0>)\n"
          ]
        }
      ]
    },
    {
      "cell_type": "markdown",
      "metadata": {
        "id": "nZ4DG0kmaTzl"
      },
      "source": [
        "Ok, powróćmy teraz do `grad_tensors` - co to jest? Otóż autograd jest silnikiem, który służy do wyliczania **macierzy Jacobiego**, tj. pochodnych pierwszego rzędu funkcji, których składowymi są funkcje rzeczywiste.\n",
        "\n",
        "$$f = (f_1, f_2, \\ldots, f_m)$$\n",
        "$$\\mathbf x = (x_1, x_2, \\ldots, x_n)$$\n",
        "\n",
        "$$\\mathbf J = \\begin{bmatrix}\n",
        " \\dfrac{\\partial f_1}{\\partial x_1} & \\cdots & \\dfrac{\\partial f_1}{\\partial x_n} \\\\\n",
        " \\vdots & \\ddots & \\vdots \\\\\n",
        " \\dfrac{\\partial f_m}{\\partial x_1} & \\cdots & \\dfrac{\\partial f_m}{\\partial x_n}\n",
        "\\end{bmatrix}$$\n",
        "\n",
        "Konkretnie patrząc na przykład z tensorem $a$ macierz Jacobiego wygląda tak:\n",
        "$$\\mathbf J_a = \\begin{bmatrix}\n",
        " \\dfrac{\\partial a_1}{\\partial x_1} & \\dfrac{\\partial a_1}{\\partial x_2} & \\dfrac{\\partial a_1}{\\partial x_3} \\\\\n",
        "  \\dfrac{\\partial a_2}{\\partial x_1} & \\dfrac{\\partial a_2}{\\partial x_2} & \\dfrac{\\partial a_2}{\\partial x_3} \\\\\n",
        "   \\dfrac{\\partial a_3}{\\partial x_1} & \\dfrac{\\partial a_3}{\\partial x_2} & \\dfrac{\\partial a_3}{\\partial x_3} \\\\\n",
        "\\end{bmatrix}$$\n",
        "\n",
        "Następnie `grad_tensors` ($\\mathbf z$) mnożymy przez transpozycję tej macierzy (ang. *Jacobian-vector product*).\n",
        "\n",
        "$$\\mathbf z \\mathbf{J}_a^T = \\begin{bmatrix} 1 & 1 & 1 \\end{bmatrix}\n",
        "\n",
        "\\begin{bmatrix}\n",
        " \\dfrac{\\partial a_1}{\\partial x_1} & \\dfrac{\\partial a_2}{\\partial x_1} & \\dfrac{\\partial a_3}{\\partial x_1} \\\\\n",
        "  \\dfrac{\\partial a_1}{\\partial x_2} & \\dfrac{\\partial a_2}{\\partial x_2} & \\dfrac{\\partial a_3}{\\partial x_2} \\\\\n",
        "   \\dfrac{\\partial a_1}{\\partial x_3} & \\dfrac{\\partial a_2}{\\partial x_3} & \\dfrac{\\partial a_3}{\\partial x_3} \\\\\n",
        "\\end{bmatrix}\n",
        "\n",
        "= \\begin{bmatrix} 1\\dfrac{\\partial a_1}{\\partial x_1} + 1\\dfrac{\\partial a_1}{\\partial x_2} + 1\\dfrac{\\partial a_1}{\\partial x_3} & 1\\dfrac{\\partial a_2}{\\partial x_1} + 1\\dfrac{\\partial a_2}{\\partial x_2} + 1\\dfrac{\\partial a_2}{\\partial x_3} & 1\\dfrac{\\partial a_3}{\\partial x_1} + 1\\dfrac{\\partial a_3}{\\partial x_2} + 1\\dfrac{\\partial a_3}{\\partial x_3} \\end{bmatrix}\n",
        "\n",
        "= \\begin{bmatrix} 12(0)^3 + 0 + 0 & 0 + 12(1)^3 + 0 & 0 + 0 + 12(5)^3 \\end{bmatrix} =  \\begin{bmatrix} 0 & 12 & 1500 \\end{bmatrix}$$\n",
        "\n",
        "Uzyskujemy te same gradienty co policzyliśmy dla wektora $\\mathbf x$. Zamiast przekazywać wektor jedynek do `backward()`, można najpierw policzyć sumę wektora $\\mathbf a$ a potem wykonać propagację wsteczną."
      ]
    },
    {
      "cell_type": "code",
      "metadata": {
        "id": "PVcNdrQKo0d0",
        "colab": {
          "base_uri": "https://localhost:8080/",
          "height": 0
        },
        "outputId": "94daf308-f46c-4e19-ad40-e113d84e2353"
      },
      "source": [
        "x.grad.data.zero_()\n",
        "a = 3*(x**2)**2 + y**3\n",
        "a.sum().backward()\n",
        "print(x.grad)\n",
        "print(12*(x**3))\n",
        "assert (x.grad == 12*(x**3)).all()"
      ],
      "execution_count": 15,
      "outputs": [
        {
          "output_type": "stream",
          "name": "stdout",
          "text": [
            "tensor([   0.,   12., 1500.])\n",
            "tensor([   0.,   12., 1500.], grad_fn=<MulBackward0>)\n"
          ]
        }
      ]
    },
    {
      "cell_type": "markdown",
      "metadata": {
        "id": "ZpK5aW-CrKxP"
      },
      "source": [
        "Wtedy pamiętając o tym, że pochodna sumy to suma pochodnych ($(f(x) + g(x))' = f'(x) + g'(x)$):\n",
        "\n",
        "$$\\begin{bmatrix}\n",
        " \\dfrac{\\partial a}{\\partial x_1} & \\dfrac{\\partial a}{\\partial x_2} & \\dfrac{\\partial a}{\\partial x_3}\n",
        "\\end{bmatrix} = \\begin{bmatrix} \\dfrac{\\partial (a_1 + a_2 + a_3)}{\\partial x_1} & \\dfrac{\\partial (a_1 + a_2 + a_3)}{\\partial x_2} & \\dfrac{\\partial (a_1 + a_2 + a_3)}{\\partial x_3} \\end{bmatrix} = \\begin{bmatrix} \\dfrac{\\partial a_1}{\\partial x_1} + \\dfrac{\\partial a_2}{\\partial x_1} + \\dfrac{\\partial a_3}{\\partial x_1} & \\dfrac{\\partial a_1}{\\partial x_2} + \\dfrac{\\partial a_2}{\\partial x_2} + \\dfrac{\\partial a_3}{\\partial x_2} & \\dfrac{\\partial a_1}{\\partial x_3} + \\dfrac{\\partial a_2}{\\partial x_3} + \\dfrac{\\partial a_3}{\\partial x_3} \\end{bmatrix} = \\begin{bmatrix} \\dfrac{\\partial a_1}{\\partial x_1} & \\dfrac{\\partial a_2}{\\partial x_2} & \\dfrac{\\partial a_3}{\\partial x_3} \\end{bmatrix} =  \\begin{bmatrix} 0 & 12 & 1500 \\end{bmatrix} $$\n",
        "\n",
        "Zatem po co w ogóle ten wektor? Otóż służy on do przekazywania wektora gradientu funkcji straty ($\\dfrac{\\partial \\mathbf{loss}}{\\partial \\mathbf w}$). Dzięki temu możemy mieć wpływ na to jaką poprawkę trzeba wykonać na danym wektorze (np. z parametrami modelu) względem tego jak bardzo mocno model pomylił się na danych uczących."
      ]
    },
    {
      "cell_type": "code",
      "metadata": {
        "id": "jPnhVtQ2wIpy",
        "colab": {
          "base_uri": "https://localhost:8080/",
          "height": 0
        },
        "outputId": "c1000d5a-efb4-4b21-b9ed-3f92fb5e5831"
      },
      "source": [
        "x.grad.data.zero_()\n",
        "a = 3*(x**2)**2 + y**3\n",
        "a.backward(torch.tensor([0., 0.3, -0.4]))\n",
        "print(x.grad)\n",
        "print(12*(x**3))"
      ],
      "execution_count": 16,
      "outputs": [
        {
          "output_type": "stream",
          "name": "stdout",
          "text": [
            "tensor([   0.0000,    3.6000, -600.0001])\n",
            "tensor([   0.,   12., 1500.], grad_fn=<MulBackward0>)\n"
          ]
        }
      ]
    },
    {
      "cell_type": "markdown",
      "metadata": {
        "id": "2nRcH7fZx-m9"
      },
      "source": [
        "## Graf obliczeniowy\n",
        "\n",
        "To wszystko jest możliwe dzięki temu, że autograd tworzy **acykliczny skierowany graf obilczeniowy**. Gdzie go przechowuje? Spójrzmy jeszcze raz na nasz wektor $\\mathbf a$."
      ]
    },
    {
      "cell_type": "code",
      "metadata": {
        "id": "req-qWXFx-Po",
        "colab": {
          "base_uri": "https://localhost:8080/",
          "height": 0
        },
        "outputId": "e55e4e05-8662-4090-b4a6-6310b28377b1"
      },
      "source": [
        "print(a)\n",
        "print(a.grad_fn.next_functions)"
      ],
      "execution_count": 17,
      "outputs": [
        {
          "output_type": "stream",
          "name": "stdout",
          "text": [
            "tensor([ 512.,   11., 1939.], grad_fn=<AddBackward0>)\n",
            "((<MulBackward0 object at 0x7e8325e7dba0>, 0), (<PowBackward0 object at 0x7e8325e7eec0>, 0))\n"
          ]
        }
      ]
    },
    {
      "cell_type": "markdown",
      "metadata": {
        "id": "vWUeVJI4tC0y"
      },
      "source": [
        "Obiekt a ma pole `grad_fn` a ono ma pole `next_functions`. Widzimy, że $\\mathbf a$ powstało z przemnożenia dwóch tensorów, gdzie pierwszy tensor był wynikiem mnożenia a drugi - potęgowania. A więc na razie wiemy, że `a = (_*_) + (_**_)`. I kolejno przechodząc po tym grafie możemy dalej odkrywać jego strukturę i jaka droga skonstruowania $\\mathbf a$ się za nim kryje."
      ]
    },
    {
      "cell_type": "code",
      "metadata": {
        "id": "iG7ewXOpuBg9",
        "colab": {
          "base_uri": "https://localhost:8080/",
          "height": 0
        },
        "outputId": "258148ac-51dc-4d6c-9800-0b0521441072"
      },
      "source": [
        "print(a.grad_fn.next_functions[0][0].next_functions) # a = ((_**_))*_) + (_**_)\n",
        "print(a.grad_fn.next_functions[0][0].next_functions[0][0].next_functions) # a = (((_**_))**_))*_) + (_**_)\n",
        "print(a.grad_fn.next_functions[0][0].next_functions[0][0].next_functions[0][0].next_functions) # a = (((x**_))**_))*_) + (_**_)\n",
        "print()\n",
        "print(a.grad_fn.next_functions[1][0].next_functions) # a = (((x**_))**_))*_) + (y**_)"
      ],
      "execution_count": 18,
      "outputs": [
        {
          "output_type": "stream",
          "name": "stdout",
          "text": [
            "((<PowBackward0 object at 0x7e822f838460>, 0), (None, 0))\n",
            "((<PowBackward0 object at 0x7e822f83a860>, 0),)\n",
            "((<AccumulateGrad object at 0x7e8246d88d00>, 0),)\n",
            "\n",
            "((<AccumulateGrad object at 0x7e8325e7dea0>, 0),)\n"
          ]
        }
      ]
    },
    {
      "cell_type": "markdown",
      "metadata": {
        "id": "O9AcjeSWwe2C"
      },
      "source": [
        "Po chwilii analizy można dostrzec że ta strutura odpowiada obliczeniu tensora $a$ ze wzoru $3(\\mathbf x^2)^2 + \\mathbf y^3$.\n",
        "\n",
        "Jeszcze warto wspomnieć o tym, że PyTorch śledzi to dla których tensorów trzeba tworzyć ten graf a dla których nie. Dlatego też jeżeli w operacjach użyjemy tensora, który \"wymaga gradientu\" (`requires_grad=True`) to uzyskamy tensor \"wymagający gradientu\":"
      ]
    },
    {
      "cell_type": "code",
      "metadata": {
        "id": "OsVXVIt0xgmH",
        "colab": {
          "base_uri": "https://localhost:8080/",
          "height": 0
        },
        "outputId": "c318fda4-43b5-4498-9a8e-c145f2c18aee"
      },
      "source": [
        "x = torch.tensor([1., 2., 3.])\n",
        "y = torch.tensor([6., 7., 8.])\n",
        "z = torch.tensor([9., 7., 8.], requires_grad=True)\n",
        "print((2*x + 3**y).requires_grad)\n",
        "print((2*x + 3**y + z).requires_grad)"
      ],
      "execution_count": 19,
      "outputs": [
        {
          "output_type": "stream",
          "name": "stdout",
          "text": [
            "False\n",
            "True\n"
          ]
        }
      ]
    },
    {
      "cell_type": "markdown",
      "metadata": {
        "id": "F31LTMdi2ZTe"
      },
      "source": [
        "# Refactoring kodu z laboratorium 2\n",
        "\n",
        "W tej części laboratorium dokonasz refaktoringu kodu z laboratorium drugiego z wykorzystaniem gotowych rozwiązań w bibliotece `torch` a w szczególności w `torch.nn`. Najpierw zacznijmy od załadowania zbioru danych i podzielenia go na zbiór uczący i testowy."
      ]
    },
    {
      "cell_type": "code",
      "metadata": {
        "id": "U9wlFq0z2y-R",
        "colab": {
          "base_uri": "https://localhost:8080/"
        },
        "outputId": "558f8aaa-3a30-4439-e374-bae184b01b87"
      },
      "source": [
        "X, y = load_iris(return_X_y=True)\n",
        "\n",
        "X_train, X_test, y_train, y_test = train_test_split(X, y, test_size=0.4, random_state=1, stratify=y)\n",
        "\n",
        "X_train = torch.tensor(X_train).float().cuda()\n",
        "X_test = torch.tensor(X_test).float().cuda()\n",
        "y_train = torch.tensor(y_train).cuda()\n",
        "y_test = torch.tensor(y_test).cuda()\n",
        "\n",
        "y_test"
      ],
      "execution_count": 28,
      "outputs": [
        {
          "output_type": "execute_result",
          "data": {
            "text/plain": [
              "tensor([0, 2, 0, 1, 2, 1, 1, 2, 2, 0, 2, 0, 2, 2, 1, 1, 2, 1, 2, 1, 0, 0, 2, 0,\n",
              "        1, 1, 2, 0, 2, 0, 0, 1, 1, 2, 2, 0, 0, 0, 0, 2, 1, 2, 0, 0, 2, 2, 1, 0,\n",
              "        0, 1, 2, 1, 1, 1, 2, 1, 0, 0, 1, 1], device='cuda:0')"
            ]
          },
          "metadata": {},
          "execution_count": 28
        }
      ]
    },
    {
      "cell_type": "markdown",
      "metadata": {
        "id": "I7l1l8oi5xIM"
      },
      "source": [
        "## `nn.Module` oraz `CrossEntropyLoss`\n",
        "\n",
        "Na poprzednich laboratoriach w tym miejscu implementowaliśmy funkcję sigmoid, inicjalizację parametrów oraz propagację w przód i wsteczną. Tym razem nie będzie trzeba tego robić, jednakże zdefiniujesz architekturę sieci przy użyciu modułu `torch.nn`.\n",
        "\n",
        "***Zaimplementuj*** klasę Perceptron - klasę dziedziczącą po `nn.Module` z jedną warstwą transformacji liniowej (Perceptrona, [`torch.nn.Linear`](https://pytorch.org/docs/stable/generated/torch.nn.Linear.html)). Na razie ***pomiń*** transformację nieliniową (np. sigmoid).\n",
        "\n"
      ]
    },
    {
      "cell_type": "code",
      "metadata": {
        "id": "x3puwuoU_pt_"
      },
      "source": [
        "class Perceptron(nn.Module):\n",
        "    def __init__(self, input_dim: int, output_dim: int):\n",
        "        super().__init__()\n",
        "        self.net = nn.Linear(input_dim, output_dim)\n",
        "\n",
        "    def forward(self, x: torch.Tensor) -> torch.Tensor:\n",
        "        return self.net(x)\n"
      ],
      "execution_count": 25,
      "outputs": []
    },
    {
      "cell_type": "markdown",
      "metadata": {
        "id": "rY0OAVWM8DF6"
      },
      "source": [
        "Wspominmy tylko, że można nadal używać `torch.nn` i nie wykorzystywać gotowych warstw sieci tylko samemu implementować operacje na tensorach:\n",
        "\n",
        "```\n",
        "class Perceptron(nn.Module):\n",
        "    def __init__(self, in_dim: int, out_dim: int):\n",
        "        super().__init__()\n",
        "        self.weights = nn.Parameter(\n",
        "          torch.randn(in_dim, out_dim) / math.sqrt(in_dim)\n",
        "        )\n",
        "        self.bias = nn.Parameter(torch.zeros(out_dim))\n",
        "\n",
        "    def forward(self, xb: torch.Tensor):\n",
        "        return xb @ self.weights + self.bias\n",
        "```\n",
        "***Przetestuj*** poprawność swojej implementacji."
      ]
    },
    {
      "cell_type": "code",
      "metadata": {
        "id": "g3OrIHg-82v5",
        "colab": {
          "base_uri": "https://localhost:8080/"
        },
        "outputId": "addfaed3-8bd5-46db-848f-f801ca5a3085"
      },
      "source": [
        "output_dim: int = len(torch.unique(y_train))\n",
        "input_dim: int = X_train.shape[1]\n",
        "model = Perceptron(input_dim, output_dim).cuda()\n",
        "y_pred_0 = model(X_train[0])\n",
        "print(y_pred_0)\n",
        "\n",
        "assert isinstance(y_pred_0, torch.cuda.FloatTensor)\n",
        "assert len(y_pred_0) == 3"
      ],
      "execution_count": 33,
      "outputs": [
        {
          "output_type": "stream",
          "name": "stdout",
          "text": [
            "tensor([-0.9597,  4.0801, -1.5370], device='cuda:0', grad_fn=<ViewBackward0>)\n"
          ]
        }
      ]
    },
    {
      "cell_type": "markdown",
      "metadata": {
        "id": "sdodFGsV_EMR"
      },
      "source": [
        "Wykorzystanie `nn.Linear` nie tylko odciążyło nas z implementacji operacji na tensorasch, ale także z inicjalizacji paprametrów modelu - inicjalizacja parametrów jest domyślnie implementowana przez daną wartstwę. Jeżeli uruchomisz powyższy kod wielokrotnie to zauważysz, że za każdym razem otrzymujesz inny tensor wyjściowy. Wynika to z tego, że początkowe parametry modelu są domyślnie **losowane**. Oznacza to, że proces uczenia będzie **niedeterministryczny** - każde uruchomienie da inny wynik parametrów, które model się nauczy.\n",
        "\n",
        "Pozostało jeszcze dodanie nieliniowej transformacji do sieci, ale nie będziemy tego robić. Dodatkowo zamiast tworzyć osobny klasifikator na klasę, zastosujemy jeden klasyfikator. W tym celu zmieniemy funkcję kosztu. Do klasyfikacji wieloklasowej wykorzystamy funkcję **straty krzyżowej entropii**.\n",
        "\n",
        "$\\text{loss} = -\\frac{1}{N}\\sum_{i}^{N}\\log(\\text{softmax}(x_{i}){y_{i}}) $, gdzie $N$ oznacza liczbę przypadków, $x_{i}$ wyjście z ostatniej warstwy $i$-tej instancji, $y_{i}$ klasę $i$-tej instancji.\n",
        "\n",
        "**Softmax** jest przekstałceniem nielinowym powszechnie używanym jako ostatnia warstwa sieci neuronowej służącej do klasyfikacji. Jej mocną stroną jest to, że suma wszystkich elementów tensora będących na jej wyjściu wynosi $1$. Dzięki temu możemy wyjście sieci interpretować jako przypisanie pseudoprawdopodbieństwa dla klasyfikacji dla danej próbki.\n",
        "\n",
        "Dla danego wektora $\\mathbf x = (x_1, x_2, \\ldots, x_i, \\ldots, x_C)$ funkcja Softmax jest zdefiniowana jako:\n",
        "$\\text{Softmax}(x_{i}) = \\frac{\\exp(x_{i})}{\\sum_{j}^{C} \\exp(x_{j})}$, gdzie $C$ oznacza liczbę klas.\n",
        "\n",
        "W tym zadaniu nie będziemy implementować tych funkcji samemu tylko wykorzystamy gotową implementację w bibliotece torch. Implementację znajdziemy w [`torch.nn.CrossEntropyLoss`](https://pytorch.org/docs/stable/generated/torch.nn.CrossEntropyLoss.html). Przyjmuje ona \"surowe\" wartości, dlatego że oblicza również funkcję **LogSoftmax**. Alternatywnie możemy nałożyć funkcję aktywacji LogSoftmax z modułu [`torch.nn.LogSoftmax`](https://pytorch.org/docs/stable/generated/torch.nn.LogSoftmax.html) i obliczyć negatywny logarytm funkcji wiarygodności (ang. *negative log likelihood*) [`torch.nn.NLLLoss`](https://pytorch.org/docs/stable/generated/torch.nn.NLLLoss.html#torch.nn.NLLLoss). `torch.nn.NLLLoss` nie wykonuje operacji logarytmowania tylko oczekuje zlogarytmowanego wejścia.\n",
        "\n",
        "**LogSoftmax** wykorzystany jest tutaj nieprzypadkowo. Funkcja softmax w oryginalnej postaci nie jest odparna na wystąpienie niestabilności numerycznych. W przypadku liczenia entropii krzyżowej możemy wykorzystać skalę logarytmiczną do przeprowadzenia operacji. Dzięki przenesieniu obliczania logarytmu do funkcji Softmax możemy zastąpić dzielenie na różnicę logarytmów. czyli zamiast powyższej definicji funkcja LogSoftmax przyjmuję następującą postać:\n",
        "\n",
        "$\\text{LogSoftmax}(x_{i}) = x_{i} - log \\bigg({\\sum_{j}^{C} \\exp(x_{j})}\\bigg)$\n",
        "\n",
        "Dodatkowo stosowany jest także trik polegający na zastąpieniu operacji $log \\bigg({\\sum_{j}^{C} \\exp(x_{j})}\\bigg)$ operacją **LogSumExp**, zdefiniowaną jako\n",
        "\n",
        "$\\text{LogSumExp}(\\mathbf x) = \\max(\\mathbf x) + log \\bigg({\\sum_{j}^{C} \\exp(x_{j} - \\max(\\mathbf x))}\\bigg)$.\n",
        "\n",
        "Pozwala to pozbyć się dużych wartości $x_{j}$ podczas obliczania $\\exp$.\n",
        "\n"
      ]
    },
    {
      "cell_type": "markdown",
      "metadata": {
        "id": "S5hwoYUOMCE7"
      },
      "source": [
        "## Algorytmy online i offline (`DataLoader`)\n",
        "\n",
        "Na poprzednich zajęciach zaimplementowałaś(eś) **algorytm offline** (alternatywnie batchowy lub deterministyczny, ang. *offline*, *batch*, *deterministic*) tzn. taki, który przetwarza od razu wszystkie dane. Jednakże implementując sieci neuronowe tworzymy często algorytmy **online** (alternatywnie stochastyczne, ang. *online*, *stochastic*), które przetwarzają dane w \"kawałkach\" lub wręcz mogą dostawać je \"na bieżąco\" bez konieczności posiadania wszystkcih danych przed uruchomieniem algorytmu. Są różne powody, dla których tak się robi, ale najczęstrzy jest taki, że przy głębszych architektrurach i bardziej złożonych obiektach (np. obrazach) byłoby fizycznie nie możliwe pomieścić te wszystkie dane w pamięci RAM lub VRAM (RAM na GPU) wraz z parametrami modelu.\n",
        "\n",
        "Liczbę próbek w algorytmach stochastycznych w sieciach neuronowych określa się jako **minibatch size** lub po prostu **batch size**. Przy czym określenie *batch size* nie odnosi się tutaj do algorytmów batchowych (operujących na całym zbiorze danych), tylko do algorytmów online/minibatch. Po prostu *batch size* jest określeniem krótszym (ale mniej poprawnym) niż *minibatch size*, stąd też powszechnie używa się tego pierwszego. Z tego też powodu czasami niektórzy używają określenia *batch* na *minibatch* - warto mieć to na uwadze przy komunikowaniu się z innymi osobami.\n",
        "\n",
        "Do zaimplementowania minibatchy wykorzystamy [`torch.utils.data.DataLoader`](https://pytorch.org/docs/stable/data.html#torch.utils.data.DataLoader). ***Zaimplementuj*** funkcję `to_dataloader`, która `X_train` i `y_train` oraz `X_test` i `y_test` umieści w dwóch osobnych instancjach klasy `DataLoader` z wielkością minibatacha równą `batch_size`"
      ]
    },
    {
      "cell_type": "code",
      "metadata": {
        "id": "ni_A2b6nQHTX"
      },
      "source": [
        "def to_dataloader(\n",
        "    X_train: torch.Tensor,\n",
        "    y_train: torch.Tensor,\n",
        "    X_test: torch.Tensor,\n",
        "    y_test: torch.Tensor,\n",
        "    batch_size: int = 32\n",
        ") -> Tuple[DataLoader, DataLoader]:\n",
        "    train_ds = TensorDataset(X_train, y_train)\n",
        "    train_dl = DataLoader(train_ds, batch_size=batch_size, shuffle=True)\n",
        "\n",
        "    test_ds = TensorDataset(X_test, y_test)\n",
        "    test_dl = DataLoader(test_ds, batch_size=batch_size)\n",
        "\n",
        "    return train_dl, test_dl"
      ],
      "execution_count": 46,
      "outputs": []
    },
    {
      "cell_type": "markdown",
      "metadata": {
        "id": "LaPQq3iKXPJ-"
      },
      "source": [
        "***Przetestuj*** implementację"
      ]
    },
    {
      "cell_type": "code",
      "metadata": {
        "id": "m6LRNS6sWWA2",
        "colab": {
          "base_uri": "https://localhost:8080/"
        },
        "outputId": "220676d4-166a-45e5-8196-5e77f76c9083"
      },
      "source": [
        "train_loader, test_loader = to_dataloader(\n",
        "    X_train=X_train,  y_train=y_train,\n",
        "    X_test=X_test, y_test=y_test,\n",
        "    batch_size=32\n",
        ")\n",
        "\n",
        "for sample in test_loader:\n",
        "    print(sample)"
      ],
      "execution_count": 47,
      "outputs": [
        {
          "output_type": "stream",
          "name": "stdout",
          "text": [
            "[tensor([[5.1000, 3.8000, 1.9000, 0.4000],\n",
            "        [7.4000, 2.8000, 6.1000, 1.9000],\n",
            "        [4.6000, 3.2000, 1.4000, 0.2000],\n",
            "        [6.4000, 2.9000, 4.3000, 1.3000],\n",
            "        [7.3000, 2.9000, 6.3000, 1.8000],\n",
            "        [7.0000, 3.2000, 4.7000, 1.4000],\n",
            "        [5.1000, 2.5000, 3.0000, 1.1000],\n",
            "        [7.2000, 3.2000, 6.0000, 1.8000],\n",
            "        [6.7000, 2.5000, 5.8000, 1.8000],\n",
            "        [5.0000, 3.4000, 1.5000, 0.2000],\n",
            "        [6.1000, 3.0000, 4.9000, 1.8000],\n",
            "        [5.1000, 3.5000, 1.4000, 0.2000],\n",
            "        [6.9000, 3.2000, 5.7000, 2.3000],\n",
            "        [6.2000, 3.4000, 5.4000, 2.3000],\n",
            "        [6.0000, 3.4000, 4.5000, 1.6000],\n",
            "        [6.1000, 3.0000, 4.6000, 1.4000],\n",
            "        [6.8000, 3.0000, 5.5000, 2.1000],\n",
            "        [6.8000, 2.8000, 4.8000, 1.4000],\n",
            "        [5.7000, 2.5000, 5.0000, 2.0000],\n",
            "        [6.2000, 2.2000, 4.5000, 1.5000],\n",
            "        [5.7000, 4.4000, 1.5000, 0.4000],\n",
            "        [5.0000, 3.5000, 1.6000, 0.6000],\n",
            "        [6.7000, 3.3000, 5.7000, 2.5000],\n",
            "        [4.4000, 2.9000, 1.4000, 0.2000],\n",
            "        [5.6000, 2.7000, 4.2000, 1.3000],\n",
            "        [6.6000, 3.0000, 4.4000, 1.4000],\n",
            "        [5.9000, 3.0000, 5.1000, 1.8000],\n",
            "        [5.4000, 3.9000, 1.7000, 0.4000],\n",
            "        [6.7000, 3.1000, 5.6000, 2.4000],\n",
            "        [4.9000, 3.0000, 1.4000, 0.2000],\n",
            "        [4.6000, 3.4000, 1.4000, 0.3000],\n",
            "        [5.7000, 2.8000, 4.1000, 1.3000]], device='cuda:0'), tensor([0, 2, 0, 1, 2, 1, 1, 2, 2, 0, 2, 0, 2, 2, 1, 1, 2, 1, 2, 1, 0, 0, 2, 0,\n",
            "        1, 1, 2, 0, 2, 0, 0, 1], device='cuda:0')]\n",
            "[tensor([[6.7000, 3.1000, 4.4000, 1.4000],\n",
            "        [6.5000, 3.0000, 5.5000, 1.8000],\n",
            "        [6.4000, 2.7000, 5.3000, 1.9000],\n",
            "        [4.8000, 3.4000, 1.6000, 0.2000],\n",
            "        [5.2000, 3.4000, 1.4000, 0.2000],\n",
            "        [5.4000, 3.4000, 1.7000, 0.2000],\n",
            "        [4.8000, 3.0000, 1.4000, 0.1000],\n",
            "        [6.5000, 3.0000, 5.2000, 2.0000],\n",
            "        [6.5000, 2.8000, 4.6000, 1.5000],\n",
            "        [7.1000, 3.0000, 5.9000, 2.1000],\n",
            "        [4.9000, 3.1000, 1.5000, 0.2000],\n",
            "        [5.4000, 3.9000, 1.3000, 0.4000],\n",
            "        [6.5000, 3.0000, 5.8000, 2.2000],\n",
            "        [4.9000, 2.5000, 4.5000, 1.7000],\n",
            "        [6.1000, 2.8000, 4.7000, 1.2000],\n",
            "        [4.9000, 3.1000, 1.5000, 0.1000],\n",
            "        [5.0000, 3.0000, 1.6000, 0.2000],\n",
            "        [4.9000, 2.4000, 3.3000, 1.0000],\n",
            "        [6.9000, 3.1000, 5.1000, 2.3000],\n",
            "        [5.5000, 2.3000, 4.0000, 1.3000],\n",
            "        [5.6000, 3.0000, 4.5000, 1.5000],\n",
            "        [6.3000, 3.3000, 4.7000, 1.6000],\n",
            "        [5.6000, 2.8000, 4.9000, 2.0000],\n",
            "        [5.4000, 3.0000, 4.5000, 1.5000],\n",
            "        [5.7000, 3.8000, 1.7000, 0.3000],\n",
            "        [4.9000, 3.6000, 1.4000, 0.1000],\n",
            "        [6.0000, 2.2000, 4.0000, 1.0000],\n",
            "        [6.1000, 2.8000, 4.0000, 1.3000]], device='cuda:0'), tensor([1, 2, 2, 0, 0, 0, 0, 2, 1, 2, 0, 0, 2, 2, 1, 0, 0, 1, 2, 1, 1, 1, 2, 1,\n",
            "        0, 0, 1, 1], device='cuda:0')]\n"
          ]
        }
      ]
    },
    {
      "cell_type": "markdown",
      "metadata": {
        "id": "B7yYkPUtxcaJ"
      },
      "source": [
        "## Ewaluacja modelu - metryki\n",
        "\n",
        "***Zaimplementuj*** funkcję `validate`, które dla danego modelu, funkcji straty i loadera zwróci średnią wartość funkcji straty oraz dokładność (ang. *accuracy*) dla danych z `dataloader`."
      ]
    },
    {
      "cell_type": "code",
      "metadata": {
        "id": "5iCngT3Ctn-e"
      },
      "source": [
        "def count_correct(\n",
        "    y_pred: torch.Tensor, y_true: torch.Tensor\n",
        ") -> torch.Tensor:\n",
        "    preds = torch.argmax(y_pred, dim=1)\n",
        "    return (preds == y_true).float().sum()\n",
        "\n",
        "def validate(\n",
        "    model: nn.Module,\n",
        "    loss_fn: torch.nn.CrossEntropyLoss,\n",
        "    dataloader: DataLoader\n",
        ") -> Tuple[torch.Tensor, torch.Tensor]:\n",
        "    loss = 0\n",
        "    correct = 0\n",
        "    all = 0\n",
        "    for X_batch, y_batch in dataloader:\n",
        "        y_pred = model.forward(X_batch)\n",
        "        all += len(y_pred)\n",
        "        loss += len(y_pred) * loss_fn(y_pred, y_batch)\n",
        "        correct += count_correct(y_pred, y_batch)\n",
        "    return loss / all, correct / all\n"
      ],
      "execution_count": 48,
      "outputs": []
    },
    {
      "cell_type": "markdown",
      "metadata": {
        "id": "sZgBH3lxF2l5"
      },
      "source": [
        "***Przetestuj*** swoją implementację"
      ]
    },
    {
      "cell_type": "code",
      "metadata": {
        "id": "X0W8GaaNvoFC",
        "colab": {
          "base_uri": "https://localhost:8080/"
        },
        "outputId": "52a6e94c-e970-4f93-9b95-250a3a2cab78"
      },
      "source": [
        "loss_fn = torch.nn.CrossEntropyLoss()\n",
        "val_train, acc_train = validate(model, loss_fn, test_loader)\n",
        "print(val_train, acc_train)"
      ],
      "execution_count": 43,
      "outputs": [
        {
          "output_type": "stream",
          "name": "stdout",
          "text": [
            "tensor(2.6912, device='cuda:0', grad_fn=<DivBackward0>) tensor(0.3333, device='cuda:0')\n"
          ]
        }
      ]
    },
    {
      "cell_type": "markdown",
      "metadata": {
        "id": "l6Me2ep7HFC-"
      },
      "source": [
        "## Uczenie\n",
        "\n",
        "Przed uzupełnieniem poniżej implementacji została nam jeszcze jedna istotna kwestia do poruszenia. Otóż dot tej pory aktualizację parametrów dokonywaliśmy wg prostej formuły - mnożyliśmy gradienty przez współczynnik uczenia (ang. *learning rate*) i odejmowalismy od parametrów. Jednakże do uczenia sieci neuronowych sotsujemy często optymalizatory (ang. *optimiser*), które mogą implementować różne podejścia do uakualiniania parameterów modelu. Wykorzystamy tutaj algorytm **Adam** (ang. *adaptive moment estimation*), który dostosowuje współczynnik uczenia do poszczególnych parametrów i jest często optimizatorem pierwszego wyboru.\n",
        "\n",
        "***Uzupełnij i przetestuj*** poniższą implementację uczenia modelu. Porównaj jej skuteczność z tą, którą zaimplementowałeś(aś) na laboratorium 2."
      ]
    },
    {
      "cell_type": "code",
      "metadata": {
        "id": "Enlx7Cr33frK",
        "colab": {
          "base_uri": "https://localhost:8080/",
          "height": 1000
        },
        "outputId": "571c6adb-643a-4c91-dbde-e320533eedee"
      },
      "source": [
        "import matplotlib.pyplot as plt\n",
        "def fit(\n",
        "    model: nn.Module, optimiser: optim.Optimizer,\n",
        "    loss_fn: torch.nn.CrossEntropyLoss, train_dl: DataLoader,\n",
        "    val_dl: DataLoader, epochs: int,\n",
        "    print_metrics: bool = True\n",
        ") -> dict[str, list[float]]:\n",
        "\n",
        "    history: dict[str, list[float]] = {'train_loss': [], 'train_acc': [], 'val_loss': [], 'val_acc': []}\n",
        "\n",
        "    for epoch in range(epochs):\n",
        "        for X_batch, y_batch in train_dl:\n",
        "            y_pred = model(X_batch) # Uzyskanie pseudoprawdopodobieństw dla próbek z minibatcha\n",
        "            loss = loss_fn(y_pred, y_batch) # Policzenie funkcji straty\n",
        "\n",
        "            loss.backward() # Wsteczna propagacja z wyniku funkcji straty - policzenie gradientów i zapisanie ich w tensorach (parametrach)\n",
        "            optimiser.step() # Aktualizacja parametrów modelu przez optymalizator na podstawie gradientów zapisanych w tensorach (parametrach) oraz lr\n",
        "            optimiser.zero_grad() # Wyzerowanie gradientów w modelu, alternatywnie można wywołać percepron.zero_grad()\n",
        "\n",
        "        if print_metrics:\n",
        "            model.eval() # Przełączenie na tryb ewaluacji modelu - istotne dla takich warstw jak Dropuot czy BatchNorm\n",
        "            with torch.no_grad():  # Wstrzymujemy przeliczanie i śledzenie gradientów dla tensorów - w procesie ewaluacji modelu nie chcemy zmian w gradientach\n",
        "                train_loss, train_acc = validate(model, loss_fn, train_dl)\n",
        "                val_loss, val_acc = validate(model, loss_fn, val_dl)\n",
        "                print(\n",
        "                    f\"Epoch {epoch}: \"\n",
        "                    f\"train loss = {train_loss:.3f} (acc: {train_acc:.3f}), \"\n",
        "                    f\"validation loss = {val_loss:.3f} (acc: {val_acc:.3f})\"\n",
        "                )\n",
        "\n",
        "                history['train_loss'].append(train_loss.item())\n",
        "                history['train_acc'].append(train_acc.item())\n",
        "                history['val_loss'].append(val_loss.item())\n",
        "                history['val_acc'].append(val_acc.item())\n",
        "\n",
        "\n",
        "    model.eval() # Przełączenie na tryb ewaluacji modelu - istotne dla takich warstw jak Dropuot czy BatchNorm\n",
        "    return history\n",
        "\n",
        "def plot_history(history):\n",
        "    plt.figure(figsize=(12, 5))\n",
        "\n",
        "    # Wykres straty\n",
        "    plt.subplot(1, 2, 1)\n",
        "    plt.plot(history['train_loss'], label='Training Loss')\n",
        "    plt.plot(history['val_loss'], label='Validation Loss')\n",
        "    plt.title('Loss vs. Epochs')\n",
        "    plt.xlabel('Epoch')\n",
        "    plt.ylabel('Loss')\n",
        "    plt.legend()\n",
        "\n",
        "    # Wykres dokładności\n",
        "    plt.subplot(1, 2, 2)\n",
        "    plt.plot(history['train_acc'], label='Training Accuracy')\n",
        "    plt.plot(history['val_acc'], label='Validation Accuracy')\n",
        "    plt.title('Accuracy vs. Epochs')\n",
        "    plt.xlabel('Epoch')\n",
        "    plt.ylabel('Accuracy')\n",
        "    plt.legend()\n",
        "\n",
        "    plt.tight_layout()\n",
        "    plt.show()\n",
        "\n",
        "train_dl, test_dl = to_dataloader(\n",
        "    X_train=X_train,\n",
        "    y_train=y_train,\n",
        "    X_test=X_test,\n",
        "    y_test=y_test,\n",
        "    batch_size=32\n",
        ")\n",
        "\n",
        "input_dim: int = X_train.shape[1]\n",
        "output_dim: int = len(torch.unique(y_train))\n",
        "\n",
        "perceptron = Perceptron(input_dim, output_dim).cuda()\n",
        "optimiser = optim.Adam(perceptron.parameters(), lr=0.001)\n",
        "loss_fn = torch.nn.CrossEntropyLoss()\n",
        "\n",
        "history = fit(\n",
        "    model=perceptron, optimiser=optimiser, loss_fn=loss_fn,\n",
        "    train_dl=train_dl, val_dl=test_dl, epochs=50\n",
        ")\n",
        "\n",
        "plot_history(history)\n"
      ],
      "execution_count": 57,
      "outputs": [
        {
          "output_type": "stream",
          "name": "stdout",
          "text": [
            "Epoch 0: train loss = 1.558 (acc: 0.367), validation loss = 1.554 (acc: 0.333)\n",
            "Epoch 1: train loss = 1.530 (acc: 0.378), validation loss = 1.526 (acc: 0.367)\n",
            "Epoch 2: train loss = 1.504 (acc: 0.378), validation loss = 1.500 (acc: 0.367)\n",
            "Epoch 3: train loss = 1.479 (acc: 0.389), validation loss = 1.475 (acc: 0.383)\n",
            "Epoch 4: train loss = 1.456 (acc: 0.400), validation loss = 1.451 (acc: 0.383)\n",
            "Epoch 5: train loss = 1.434 (acc: 0.456), validation loss = 1.429 (acc: 0.417)\n",
            "Epoch 6: train loss = 1.414 (acc: 0.489), validation loss = 1.409 (acc: 0.483)\n",
            "Epoch 7: train loss = 1.396 (acc: 0.522), validation loss = 1.391 (acc: 0.500)\n",
            "Epoch 8: train loss = 1.379 (acc: 0.533), validation loss = 1.373 (acc: 0.517)\n",
            "Epoch 9: train loss = 1.363 (acc: 0.556), validation loss = 1.357 (acc: 0.583)\n",
            "Epoch 10: train loss = 1.349 (acc: 0.567), validation loss = 1.343 (acc: 0.600)\n",
            "Epoch 11: train loss = 1.336 (acc: 0.567), validation loss = 1.330 (acc: 0.617)\n",
            "Epoch 12: train loss = 1.324 (acc: 0.567), validation loss = 1.318 (acc: 0.600)\n",
            "Epoch 13: train loss = 1.313 (acc: 0.578), validation loss = 1.307 (acc: 0.567)\n",
            "Epoch 14: train loss = 1.303 (acc: 0.578), validation loss = 1.297 (acc: 0.533)\n",
            "Epoch 15: train loss = 1.294 (acc: 0.544), validation loss = 1.287 (acc: 0.483)\n",
            "Epoch 16: train loss = 1.285 (acc: 0.511), validation loss = 1.278 (acc: 0.483)\n",
            "Epoch 17: train loss = 1.277 (acc: 0.511), validation loss = 1.270 (acc: 0.483)\n",
            "Epoch 18: train loss = 1.269 (acc: 0.467), validation loss = 1.262 (acc: 0.483)\n",
            "Epoch 19: train loss = 1.262 (acc: 0.456), validation loss = 1.255 (acc: 0.483)\n",
            "Epoch 20: train loss = 1.254 (acc: 0.433), validation loss = 1.248 (acc: 0.467)\n",
            "Epoch 21: train loss = 1.247 (acc: 0.422), validation loss = 1.241 (acc: 0.450)\n",
            "Epoch 22: train loss = 1.240 (acc: 0.389), validation loss = 1.234 (acc: 0.417)\n",
            "Epoch 23: train loss = 1.234 (acc: 0.389), validation loss = 1.227 (acc: 0.417)\n",
            "Epoch 24: train loss = 1.227 (acc: 0.389), validation loss = 1.221 (acc: 0.417)\n",
            "Epoch 25: train loss = 1.221 (acc: 0.389), validation loss = 1.214 (acc: 0.400)\n",
            "Epoch 26: train loss = 1.214 (acc: 0.378), validation loss = 1.208 (acc: 0.400)\n",
            "Epoch 27: train loss = 1.208 (acc: 0.378), validation loss = 1.201 (acc: 0.400)\n",
            "Epoch 28: train loss = 1.201 (acc: 0.378), validation loss = 1.195 (acc: 0.400)\n",
            "Epoch 29: train loss = 1.195 (acc: 0.367), validation loss = 1.189 (acc: 0.400)\n",
            "Epoch 30: train loss = 1.189 (acc: 0.367), validation loss = 1.183 (acc: 0.400)\n",
            "Epoch 31: train loss = 1.183 (acc: 0.367), validation loss = 1.177 (acc: 0.383)\n",
            "Epoch 32: train loss = 1.176 (acc: 0.367), validation loss = 1.171 (acc: 0.383)\n",
            "Epoch 33: train loss = 1.170 (acc: 0.367), validation loss = 1.165 (acc: 0.383)\n",
            "Epoch 34: train loss = 1.164 (acc: 0.367), validation loss = 1.159 (acc: 0.383)\n",
            "Epoch 35: train loss = 1.158 (acc: 0.367), validation loss = 1.153 (acc: 0.383)\n",
            "Epoch 36: train loss = 1.152 (acc: 0.367), validation loss = 1.147 (acc: 0.383)\n",
            "Epoch 37: train loss = 1.146 (acc: 0.367), validation loss = 1.141 (acc: 0.383)\n",
            "Epoch 38: train loss = 1.140 (acc: 0.367), validation loss = 1.135 (acc: 0.383)\n",
            "Epoch 39: train loss = 1.134 (acc: 0.367), validation loss = 1.130 (acc: 0.383)\n",
            "Epoch 40: train loss = 1.129 (acc: 0.367), validation loss = 1.124 (acc: 0.383)\n",
            "Epoch 41: train loss = 1.123 (acc: 0.367), validation loss = 1.118 (acc: 0.383)\n",
            "Epoch 42: train loss = 1.117 (acc: 0.367), validation loss = 1.113 (acc: 0.383)\n",
            "Epoch 43: train loss = 1.111 (acc: 0.367), validation loss = 1.107 (acc: 0.383)\n",
            "Epoch 44: train loss = 1.106 (acc: 0.367), validation loss = 1.102 (acc: 0.383)\n",
            "Epoch 45: train loss = 1.100 (acc: 0.367), validation loss = 1.096 (acc: 0.383)\n",
            "Epoch 46: train loss = 1.094 (acc: 0.367), validation loss = 1.090 (acc: 0.383)\n",
            "Epoch 47: train loss = 1.089 (acc: 0.367), validation loss = 1.085 (acc: 0.383)\n",
            "Epoch 48: train loss = 1.083 (acc: 0.367), validation loss = 1.080 (acc: 0.383)\n",
            "Epoch 49: train loss = 1.077 (acc: 0.367), validation loss = 1.074 (acc: 0.383)\n"
          ]
        },
        {
          "output_type": "display_data",
          "data": {
            "text/plain": [
              "<Figure size 1200x500 with 2 Axes>"
            ],
            "image/png": "[encoded data removed]"
          },
          "metadata": {}
        }
      ]
    },
    {
      "cell_type": "markdown",
      "metadata": {
        "id": "hVkTsruIBaBa"
      },
      "source": [
        "***Uzupełnij*** funkcję `fit`, aby ta mogła logować metryki (*loss*, *accuracy*) per epokę. Po zebraniu historii uczenia ***przedstaw*** następujące wykresy:\n",
        "- Wykres wartości funkcji kosztu w zależności od epoki uczenia dla zbioru uczącego i testowego\n",
        "- Wykres wartości metryki *accuracy* w zależności od epoki uczenia dla zbioru uczącego i testowego\n",
        "\n",
        "Metryki dla obu zbiorów przedstaw na jednym wykresie jako serie. ***Uzupełnij*** etykiety osi i tytuły wykresów."
      ]
    },
    {
      "cell_type": "markdown",
      "metadata": {
        "id": "E_eBwlwF6siY"
      },
      "source": [
        "***Popraw*** model, tak aby otrzymać dokładność na zbiorze testowym wynoszącą co najmniej 90%. W tym celu dobierz odpowiedni współczynnik uczenia i liczbę epok.\n",
        "Do porównania badanych hiperparametrów użyj zbioru walidacyjnego. Podziel zbiór testowy na dwie równe części, jeden który będzie służyć do walidacji hiperparametrów, a drugi, który będzie służył do ewaluacji znalezionej najlepszej pary hiperparametrów. W tym celu możesz wykorzystać funkcję `torch.utils.data.random_split` z ustawionym parametrem `generator=torch.Generator().manual_seed(1)`. Przedstaw równiez wykresy o których mowa punkcie powyżej tym razem z uwzględniem trzech zbiorów (uczącego, walidacyjnego i testowego)"
      ]
    },
    {
      "cell_type": "code",
      "source": [],
      "metadata": {
        "id": "u7XSYgPPAD2T"
      },
      "execution_count": null,
      "outputs": []
    }
  ]
}