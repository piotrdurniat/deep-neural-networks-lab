{
  "cells": [
    {
      "cell_type": "markdown",
      "metadata": {
        "id": "v7ohrpn4zljk"
      },
      "source": [
        "# Wstęp\n",
        "Zadanie 6 stanowi wprowadzenie w tematykę *data augmentation*. Ze względu na złożonośc modeli głębokich, zwykle wymagają one bardzo dużych zbiorów danych do dobrego wyuczenia. Jednym ze sposobów na skalowanie ilości dostępnych danych są metody tzw. augmentacji - przekształcenia na danych które mamy, aby utworzyć nowe przykłady o znanych etykietach. Pod koniec zadania wprowadzona jest również koncepcja *skip connections*, będących istotnym elementem współczesnych architektur konwolucyjnych i nie tylko."
      ]
    },
    {
      "cell_type": "markdown",
      "metadata": {
        "id": "Db2J8maDszza"
      },
      "source": [
        "#Cel ćwiczenia\n",
        "\n",
        "Celem ćwiczenia jest zapoznanie się z\n",
        "\n",
        "*    koncepcją augmentacji danych\n",
        "*    implementacją metod augmentacji danych obrazowych w torch.transforms\n",
        "*    koncepcją augmentacji niezależnej od dziedziny\n",
        "*    modelami sieci głębokich ze skip connections"
      ]
    },
    {
      "cell_type": "markdown",
      "metadata": {
        "id": "t4fhynJbFsoj"
      },
      "source": [
        "#Augmentacja danych obrazowych\n",
        "\n",
        "W pierwszej kolejności zapoznajmy się z funkcjonalnością augmentacji danych obrazowych. W pytorch funkcjonalność ta realizowana jest przez transformacje wykonywane na obrazach przez `torchvision.transforms`.\n",
        "\n",
        "Transformacje które typowo wykorzystuje się w augmentacji to standardowe przekształcenia afiniczne obrazu - rotacje, dobicia, skalowanie. Oczywiście, pownniśmy dobierać transformacje z takich, po których rzeczywiście oczekujemy inwariancji - przekształcony obraz będziemy podawać do sieci z tą samą etykietą. Przykładowo, na zbiorze odręcznie pisanych cyfr MNIST ograniczymy zakres obrotów czy wykorzystanie odbicia w osi poziomej, jako że niechcemy pomylić 5 z 2 czy 6 z 9.\n",
        "\n",
        "Zapoznaj się z dokumentacją transforms tutaj:\n",
        "\n",
        "https://pytorch.org/vision/stable/transforms.html\n",
        "\n",
        "Kod poniżej wczytuje CIFAR 10 i pokazuje wyniki przykładowej augmentacji - losowej rotacji o kąt -30 do 30 stopni."
      ]
    },
    {
      "cell_type": "code",
      "execution_count": 3,
      "metadata": {
        "colab": {
          "base_uri": "https://localhost:8080/",
          "height": 896
        },
        "id": "jVsqOyfLyf66",
        "outputId": "e616ad3e-8506-4169-a154-72cee464b96c"
      },
      "outputs": [
        {
          "name": "stdout",
          "output_type": "stream",
          "text": [
            "Downloading https://www.cs.toronto.edu/~kriz/cifar-10-python.tar.gz to cifar_root/cifar-10-python.tar.gz\n"
          ]
        },
        {
          "name": "stderr",
          "output_type": "stream",
          "text": [
            "100%|██████████| 170498071/170498071 [00:03<00:00, 48235238.49it/s]\n"
          ]
        },
        {
          "name": "stdout",
          "output_type": "stream",
          "text": [
            "Extracting cifar_root/cifar-10-python.tar.gz to cifar_root\n"
          ]
        },
        {
          "data": {
            "image/png": "[encoded data removed]",
            "text/plain": [
              "<Figure size 640x480 with 1 Axes>"
            ]
          },
          "metadata": {},
          "output_type": "display_data"
        },
        {
          "data": {
            "image/png": "[encoded data removed]",
            "text/plain": [
              "<Figure size 640x480 with 1 Axes>"
            ]
          },
          "metadata": {},
          "output_type": "display_data"
        }
      ],
      "source": [
        "import torch\n",
        "import torchvision\n",
        "import torchvision.transforms as transforms\n",
        "from matplotlib import pyplot as plt\n",
        "\n",
        "\n",
        "transform = transforms.Compose([transforms.RandomRotation(30), transforms.ToTensor()])\n",
        "\n",
        "train_ds = torchvision.datasets.CIFAR10(\n",
        "    \"cifar_root\", transform=transform, download=True\n",
        ")\n",
        "img, label = train_ds[0]\n",
        "\n",
        "plt.imshow(img.permute(1, 2, 0))\n",
        "plt.show()\n",
        "\n",
        "img, label = train_ds[0]\n",
        "\n",
        "plt.imshow(img.permute(1, 2, 0))\n",
        "plt.show()"
      ]
    },
    {
      "cell_type": "markdown",
      "metadata": {
        "id": "_PhVqir8Ewhc"
      },
      "source": [
        "Widzimy tutaj kolejny potencjalny problem z augmentacjami: ze względu na konieczność utrzymania stałego kształtu wejścia, augmentacje mogą wprowadzać artefakty takie jak czarne fragmenty na krawędziach obrazu czy aliasing wynikający z niskiej rozdzielczości.\n",
        "\n",
        "Poniżej kod pomocniczy z laboratorium 3, można zastąpić go własną implementacją pętli uczącej uwzględniającej ulepszenia wykonane na laboratoriach 4 i 5. W zadaniach poniżej wystarczy porównać końcowy wynik uczenia, nie jest wymagane wyrysowywanie pełnych krzywych w tensorboard niemniej mogą one pomóc w analizie otrzymanych wyników."
      ]
    },
    {
      "cell_type": "code",
      "execution_count": 4,
      "metadata": {
        "colab": {
          "base_uri": "https://localhost:8080/"
        },
        "id": "ZJF5ojwhhIKI",
        "outputId": "ebee5a2c-65b2-4084-f396-3248a3eae995"
      },
      "outputs": [
        {
          "name": "stdout",
          "output_type": "stream",
          "text": [
            "Files already downloaded and verified\n",
            "Files already downloaded and verified\n"
          ]
        }
      ],
      "source": [
        "import torchvision\n",
        "import torch.nn as nn\n",
        "import torch.optim as optim\n",
        "from torch.utils.data import DataLoader\n",
        "from typing import Tuple\n",
        "from tqdm import tqdm\n",
        "\n",
        "transform = torchvision.transforms.ToTensor()\n",
        "\n",
        "train_ds = torchvision.datasets.CIFAR10(\n",
        "    \"cifar_root\", transform=transform, download=True\n",
        ")\n",
        "test_ds = torchvision.datasets.CIFAR10(\n",
        "    \"cifar_root\", transform=transform, train=False, download=True\n",
        ")\n",
        "\n",
        "train_dl = DataLoader(train_ds, batch_size=32, shuffle=True, pin_memory=True)\n",
        "test_dl = DataLoader(test_ds, batch_size=32, pin_memory=True)\n",
        "\n",
        "\n",
        "def count_correct(y_pred: torch.Tensor, y_true: torch.Tensor) -> torch.Tensor:\n",
        "    preds = torch.argmax(y_pred, dim=1)\n",
        "    return (preds == y_true).float().sum()\n",
        "\n",
        "\n",
        "def validate(\n",
        "    model: nn.Module, loss_fn: torch.nn.CrossEntropyLoss, dataloader: DataLoader\n",
        ") -> Tuple[torch.Tensor, torch.Tensor]:\n",
        "    loss = 0\n",
        "    correct = 0\n",
        "    all = 0\n",
        "    for X_batch, y_batch in dataloader:\n",
        "        y_pred = model(X_batch.cuda())\n",
        "        all += len(y_pred)\n",
        "        loss += loss_fn(y_pred, y_batch.cuda()).sum()\n",
        "        correct += count_correct(y_pred, y_batch.cuda())\n",
        "    return loss / all, correct / all\n",
        "\n",
        "\n",
        "def fit(\n",
        "    model: nn.Module,\n",
        "    optimiser: optim.Optimizer,\n",
        "    loss_fn: torch.nn.CrossEntropyLoss,\n",
        "    train_dl: DataLoader,\n",
        "    val_dl: DataLoader,\n",
        "    epochs: int,\n",
        "    print_metrics: bool = True,\n",
        "):\n",
        "    for epoch in range(epochs):\n",
        "        for X_batch, y_batch in tqdm(train_dl):\n",
        "            y_pred = model(X_batch.cuda())\n",
        "            loss = loss_fn(y_pred, y_batch.cuda())\n",
        "\n",
        "            loss.backward()\n",
        "            optimiser.step()\n",
        "            optimiser.zero_grad()\n",
        "\n",
        "        if print_metrics:\n",
        "            model.eval()\n",
        "            with torch.no_grad():\n",
        "                train_loss, train_acc = validate(\n",
        "                    model=model, loss_fn=loss_fn, dataloader=train_dl\n",
        "                )\n",
        "                val_loss, val_acc = validate(\n",
        "                    model=model, loss_fn=loss_fn, dataloader=val_dl\n",
        "                )\n",
        "                print(\n",
        "                    f\"Epoch {epoch}: \"\n",
        "                    f\"train loss = {train_loss:.3f} (acc: {train_acc:.3f}), \"\n",
        "                    f\"validation loss = {val_loss:.3f} (acc: {val_acc:.3f})\"\n",
        "                )"
      ]
    },
    {
      "cell_type": "markdown",
      "metadata": {
        "id": "z79oc3U1vK5x"
      },
      "source": [
        "# Zadanie 1\n",
        "\n",
        "Wykorzystując klasę ThreeLayerCNN, spróbuj dobrać augmentacje danych tak aby poprawić wyniki względem jej braku na zbiorze CIFAR10."
      ]
    },
    {
      "cell_type": "code",
      "execution_count": 7,
      "metadata": {
        "id": "sGaP3-h8gfq4"
      },
      "outputs": [],
      "source": [
        "class ThreeLayerCNN(torch.nn.Module):\n",
        "    def __init__(self, channels: int, labels: int):\n",
        "        super().__init__()\n",
        "        self.model = torch.nn.Sequential()\n",
        "        self.model.add_module(\"conv_1\", torch.nn.Conv2d(3, channels, 3, padding=1))\n",
        "        self.model.add_module(\"relu_1\", torch.nn.ReLU())\n",
        "        self.model.add_module(\"max_pool_1\", torch.nn.MaxPool2d(2))\n",
        "        self.model.add_module(\n",
        "            \"conv_2\", torch.nn.Conv2d(channels, channels, 3, padding=1)\n",
        "        )\n",
        "        self.model.add_module(\"relu_2\", torch.nn.ReLU())\n",
        "        self.model.add_module(\"max_pool_2\", torch.nn.MaxPool2d(2))\n",
        "        self.model.add_module(\n",
        "            \"conv3\", torch.nn.Conv2d(channels, channels, 3, padding=1)\n",
        "        )\n",
        "        self.model.add_module(\"flatten\", torch.nn.Flatten())\n",
        "        self.model.add_module(\"linear\", torch.nn.Linear(8 * 8 * channels, 10))\n",
        "\n",
        "    def forward(self, x):\n",
        "        return self.model(x)"
      ]
    },
    {
      "cell_type": "markdown",
      "metadata": {
        "id": "TmcSjippSl5S"
      },
      "source": [
        "Zaprogramuj eksperyment tak, aby w pętli sprawdzać kolejne potencjalne wersje potoku przetwarzania (różniące się tutaj tylko augmentacją), a na końcu wybrać najlepszą - tak aby możliwe było powtórzenie całego eksperymentu uzasadniającego wybór! Transformacja z augmentacją ma być wywoływana tylko na danych treningowych.\n",
        "\n",
        "Spróbuj znaleźć również przykład augmentacji pogarszającej wynik w stosunku do bazowego otrzymanego bez augmentacji. Wykorzystaj uczenie na 50 epok i optymalizator Adam z domyślnymi parametrami, bez regularyzacji."
      ]
    },
    {
      "cell_type": "code",
      "execution_count": 4,
      "metadata": {
        "colab": {
          "base_uri": "https://localhost:8080/"
        },
        "id": "XX1kfmRGW_z1",
        "outputId": "16a901e7-8299-417c-e819-0bb63bf17f36"
      },
      "outputs": [
        {
          "name": "stdout",
          "output_type": "stream",
          "text": [
            "\n",
            "Augmentation type: RandomRotation(degrees=[-10.0, 10.0], interpolation=InterpolationMode.NEAREST, expand=False, fill=0)\n",
            "Files already downloaded and verified\n",
            "Files already downloaded and verified\n"
          ]
        },
        {
          "name": "stderr",
          "output_type": "stream",
          "text": [
            "100%|██████████| 1563/1563 [00:51<00:00, 30.29it/s]\n"
          ]
        },
        {
          "name": "stdout",
          "output_type": "stream",
          "text": [
            "Epoch 0: train loss = 0.042 (acc: 0.514), validation loss = 0.043 (acc: 0.509)\n"
          ]
        },
        {
          "name": "stderr",
          "output_type": "stream",
          "text": [
            "100%|██████████| 1563/1563 [00:47<00:00, 32.62it/s]\n"
          ]
        },
        {
          "name": "stdout",
          "output_type": "stream",
          "text": [
            "Epoch 1: train loss = 0.035 (acc: 0.613), validation loss = 0.036 (acc: 0.601)\n"
          ]
        },
        {
          "name": "stderr",
          "output_type": "stream",
          "text": [
            "100%|██████████| 1563/1563 [00:48<00:00, 31.96it/s]\n"
          ]
        },
        {
          "name": "stdout",
          "output_type": "stream",
          "text": [
            "Epoch 2: train loss = 0.031 (acc: 0.645), validation loss = 0.033 (acc: 0.629)\n"
          ]
        },
        {
          "name": "stderr",
          "output_type": "stream",
          "text": [
            "100%|██████████| 1563/1563 [00:48<00:00, 32.06it/s]\n"
          ]
        },
        {
          "name": "stdout",
          "output_type": "stream",
          "text": [
            "Epoch 3: train loss = 0.031 (acc: 0.650), validation loss = 0.033 (acc: 0.633)\n"
          ]
        },
        {
          "name": "stderr",
          "output_type": "stream",
          "text": [
            "100%|██████████| 1563/1563 [00:48<00:00, 32.27it/s]\n"
          ]
        },
        {
          "name": "stdout",
          "output_type": "stream",
          "text": [
            "Epoch 4: train loss = 0.031 (acc: 0.653), validation loss = 0.032 (acc: 0.638)\n",
            "\n",
            "Augmentation type: ColorJitter()\n",
            "Files already downloaded and verified\n",
            "Files already downloaded and verified\n"
          ]
        },
        {
          "name": "stderr",
          "output_type": "stream",
          "text": [
            "100%|██████████| 1563/1563 [00:25<00:00, 60.67it/s]\n"
          ]
        },
        {
          "name": "stdout",
          "output_type": "stream",
          "text": [
            "Epoch 0: train loss = 0.039 (acc: 0.557), validation loss = 0.040 (acc: 0.545)\n"
          ]
        },
        {
          "name": "stderr",
          "output_type": "stream",
          "text": [
            "100%|██████████| 1563/1563 [00:25<00:00, 60.88it/s]\n"
          ]
        },
        {
          "name": "stdout",
          "output_type": "stream",
          "text": [
            "Epoch 1: train loss = 0.034 (acc: 0.623), validation loss = 0.035 (acc: 0.611)\n"
          ]
        },
        {
          "name": "stderr",
          "output_type": "stream",
          "text": [
            "100%|██████████| 1563/1563 [00:25<00:00, 60.54it/s]\n"
          ]
        },
        {
          "name": "stdout",
          "output_type": "stream",
          "text": [
            "Epoch 2: train loss = 0.031 (acc: 0.660), validation loss = 0.032 (acc: 0.647)\n"
          ]
        },
        {
          "name": "stderr",
          "output_type": "stream",
          "text": [
            "100%|██████████| 1563/1563 [00:25<00:00, 60.76it/s]\n"
          ]
        },
        {
          "name": "stdout",
          "output_type": "stream",
          "text": [
            "Epoch 3: train loss = 0.030 (acc: 0.669), validation loss = 0.032 (acc: 0.648)\n"
          ]
        },
        {
          "name": "stderr",
          "output_type": "stream",
          "text": [
            "100%|██████████| 1563/1563 [00:25<00:00, 62.13it/s]\n"
          ]
        },
        {
          "name": "stdout",
          "output_type": "stream",
          "text": [
            "Epoch 4: train loss = 0.028 (acc: 0.689), validation loss = 0.031 (acc: 0.662)\n",
            "\n",
            "Augmentation type: RandomHorizontalFlip(p=0.5)\n",
            "Files already downloaded and verified\n",
            "Files already downloaded and verified\n"
          ]
        },
        {
          "name": "stderr",
          "output_type": "stream",
          "text": [
            "100%|██████████| 1563/1563 [00:20<00:00, 75.20it/s]\n"
          ]
        },
        {
          "name": "stdout",
          "output_type": "stream",
          "text": [
            "Epoch 0: train loss = 0.038 (acc: 0.575), validation loss = 0.038 (acc: 0.572)\n"
          ]
        },
        {
          "name": "stderr",
          "output_type": "stream",
          "text": [
            "100%|██████████| 1563/1563 [00:21<00:00, 71.58it/s]\n"
          ]
        },
        {
          "name": "stdout",
          "output_type": "stream",
          "text": [
            "Epoch 1: train loss = 0.033 (acc: 0.624), validation loss = 0.034 (acc: 0.611)\n"
          ]
        },
        {
          "name": "stderr",
          "output_type": "stream",
          "text": [
            "100%|██████████| 1563/1563 [00:21<00:00, 71.73it/s]\n"
          ]
        },
        {
          "name": "stdout",
          "output_type": "stream",
          "text": [
            "Epoch 2: train loss = 0.030 (acc: 0.667), validation loss = 0.031 (acc: 0.654)\n"
          ]
        },
        {
          "name": "stderr",
          "output_type": "stream",
          "text": [
            "100%|██████████| 1563/1563 [00:22<00:00, 68.85it/s]\n"
          ]
        },
        {
          "name": "stdout",
          "output_type": "stream",
          "text": [
            "Epoch 3: train loss = 0.028 (acc: 0.689), validation loss = 0.029 (acc: 0.666)\n"
          ]
        },
        {
          "name": "stderr",
          "output_type": "stream",
          "text": [
            "100%|██████████| 1563/1563 [00:21<00:00, 73.21it/s]\n"
          ]
        },
        {
          "name": "stdout",
          "output_type": "stream",
          "text": [
            "Epoch 4: train loss = 0.028 (acc: 0.690), validation loss = 0.030 (acc: 0.673)\n",
            "\n",
            "Augmentation type: RandomVerticalFlip(p=0.5)\n",
            "Files already downloaded and verified\n",
            "Files already downloaded and verified\n"
          ]
        },
        {
          "name": "stderr",
          "output_type": "stream",
          "text": [
            "100%|██████████| 1563/1563 [00:20<00:00, 75.61it/s]\n"
          ]
        },
        {
          "name": "stdout",
          "output_type": "stream",
          "text": [
            "Epoch 0: train loss = 0.044 (acc: 0.491), validation loss = 0.044 (acc: 0.482)\n"
          ]
        },
        {
          "name": "stderr",
          "output_type": "stream",
          "text": [
            "100%|██████████| 1563/1563 [00:20<00:00, 76.58it/s]\n"
          ]
        },
        {
          "name": "stdout",
          "output_type": "stream",
          "text": [
            "Epoch 1: train loss = 0.039 (acc: 0.546), validation loss = 0.040 (acc: 0.538)\n"
          ]
        },
        {
          "name": "stderr",
          "output_type": "stream",
          "text": [
            "100%|██████████| 1563/1563 [00:20<00:00, 74.80it/s]\n"
          ]
        },
        {
          "name": "stdout",
          "output_type": "stream",
          "text": [
            "Epoch 2: train loss = 0.037 (acc: 0.572), validation loss = 0.038 (acc: 0.557)\n"
          ]
        },
        {
          "name": "stderr",
          "output_type": "stream",
          "text": [
            "100%|██████████| 1563/1563 [00:20<00:00, 75.47it/s]\n"
          ]
        },
        {
          "name": "stdout",
          "output_type": "stream",
          "text": [
            "Epoch 3: train loss = 0.035 (acc: 0.598), validation loss = 0.036 (acc: 0.590)\n"
          ]
        },
        {
          "name": "stderr",
          "output_type": "stream",
          "text": [
            "100%|██████████| 1563/1563 [00:21<00:00, 73.70it/s]\n"
          ]
        },
        {
          "name": "stdout",
          "output_type": "stream",
          "text": [
            "Epoch 4: train loss = 0.034 (acc: 0.613), validation loss = 0.036 (acc: 0.594)\n",
            "\n",
            "Augmentation type: RandomGrayscale(p=0.1)\n",
            "Files already downloaded and verified\n",
            "Files already downloaded and verified\n"
          ]
        },
        {
          "name": "stderr",
          "output_type": "stream",
          "text": [
            "100%|██████████| 1563/1563 [00:21<00:00, 72.11it/s]\n"
          ]
        },
        {
          "name": "stdout",
          "output_type": "stream",
          "text": [
            "Epoch 0: train loss = 0.040 (acc: 0.553), validation loss = 0.040 (acc: 0.545)\n"
          ]
        },
        {
          "name": "stderr",
          "output_type": "stream",
          "text": [
            "100%|██████████| 1563/1563 [00:21<00:00, 72.04it/s]\n"
          ]
        },
        {
          "name": "stdout",
          "output_type": "stream",
          "text": [
            "Epoch 1: train loss = 0.036 (acc: 0.590), validation loss = 0.037 (acc: 0.580)\n"
          ]
        },
        {
          "name": "stderr",
          "output_type": "stream",
          "text": [
            "100%|██████████| 1563/1563 [00:20<00:00, 76.97it/s]\n"
          ]
        },
        {
          "name": "stdout",
          "output_type": "stream",
          "text": [
            "Epoch 2: train loss = 0.032 (acc: 0.636), validation loss = 0.034 (acc: 0.615)\n"
          ]
        },
        {
          "name": "stderr",
          "output_type": "stream",
          "text": [
            "100%|██████████| 1563/1563 [00:20<00:00, 75.77it/s]\n"
          ]
        },
        {
          "name": "stdout",
          "output_type": "stream",
          "text": [
            "Epoch 3: train loss = 0.030 (acc: 0.666), validation loss = 0.032 (acc: 0.643)\n"
          ]
        },
        {
          "name": "stderr",
          "output_type": "stream",
          "text": [
            "100%|██████████| 1563/1563 [00:20<00:00, 77.58it/s]\n"
          ]
        },
        {
          "name": "stdout",
          "output_type": "stream",
          "text": [
            "Epoch 4: train loss = 0.028 (acc: 0.691), validation loss = 0.031 (acc: 0.662)\n"
          ]
        }
      ],
      "source": [
        "# zaprojektuj eksperyment sprawdzający kilka możliwych podejść do augmentacji, wybranych z dokumentacji torchvision.transforms\n",
        "import torch\n",
        "import torch.optim as optim\n",
        "import torchvision\n",
        "from torchvision.transforms import v2\n",
        "from torch.utils.data import DataLoader\n",
        "\n",
        "device = torch.device(\"cuda\" if torch.cuda.is_available() else \"cpu\")\n",
        "\n",
        "transforms = [\n",
        "    v2.RandomRotation(10.0),\n",
        "    v2.ColorJitter(),\n",
        "    v2.RandomHorizontalFlip(),\n",
        "    v2.RandomVerticalFlip(),\n",
        "    v2.RandomGrayscale(p=0.1),\n",
        "]\n",
        "\n",
        "for augmentation in transforms:\n",
        "    print(f\"\\nAugmentation type: {augmentation}\")\n",
        "\n",
        "    transform = v2.Compose(\n",
        "        [v2.ToImage(), v2.ToDtype(torch.float32, scale=True), augmentation]\n",
        "    )\n",
        "\n",
        "    model = ThreeLayerCNN(32, 10)\n",
        "\n",
        "    model.to(device)\n",
        "    optimizer = optim.Adam(model.parameters())\n",
        "    loss_fn = torch.nn.CrossEntropyLoss()\n",
        "\n",
        "    # Datasets\n",
        "    train_ds = torchvision.datasets.CIFAR10(\n",
        "        \"cifar_root\", transform=transform, download=True\n",
        "    )\n",
        "    test_ds = torchvision.datasets.CIFAR10(\n",
        "        \"cifar_root\", transform=transform, train=False, download=True\n",
        "    )\n",
        "    train_dl = DataLoader(train_ds, batch_size=32, shuffle=True, pin_memory=True)\n",
        "    test_dl = DataLoader(test_ds, batch_size=32, pin_memory=True)\n",
        "\n",
        "    fit(model, optimizer, loss_fn, train_dl, test_dl, epochs=5)"
      ]
    },
    {
      "cell_type": "markdown",
      "metadata": {
        "id": "aRMDOzslUAKW"
      },
      "source": [
        "# Mixup - augmentacja ogólna\n",
        "\n",
        "Augmentacja daje nam spore możliwości w sytuacji, gdy w dziedzinie danych jesteśmy w stanie wskazać przekształcenia na kóre nasz model powinien być **inwariantny** - dla obrazków niewielkie skalowanie czy przesunięcie nie powinno zmieniać wyniku, zaś dla tekstu, podstawianie synonimów może spełniać podobną rolę. Ale w augmentacji danych możliwe jest też podejście niezależne od typu danych, wynikające z obserwacji dotyczących dynamiki uczenia sieci głębokich w ogóle. Ciekawym przykładem jest tu augmentacja Mixup:\n",
        "\n",
        "https://arxiv.org/abs/1710.09412\n",
        "\n",
        "Zasada działania mixup jest niezwykle prosta - generujemy nowe przykłady jako **kombinacje liniowe** tych istniejących w zbiorze danych i oczekujemy, że ich etykiety również będą kombinacjami liniowymi etykiet. Innymi słowy, dla pary przykładów z etykietami: $(x_1, y_1)$, $(x_2, y_2)$, możemy wygenerować przykład $(x', y')$:\n",
        "\n",
        "$x' = \\lambda x_1 + (1-\\lambda) x_2$\n",
        "\n",
        "$y' = \\lambda y_1 + (1-\\lambda) y_2$\n",
        "\n",
        "Wartość $\\lambda$ jest tutaj losowana z rozkładu Beta - animacja podana na https://en.wikipedia.org/wiki/Beta_distribution#Definitions dobrze obrazuje, jak wygląda ten rozkład dla różnych parametryzacji."
      ]
    },
    {
      "cell_type": "markdown",
      "metadata": {
        "id": "IRnbe1V6YfOY"
      },
      "source": [
        "# Zadanie 2\n",
        "\n",
        "Zmodyfikuj funkcję fit tak, aby uczyć zgodnie z podanym wyżej sformułowaniem augmentacji Mixup. Uwaga: będzie to wymagało modyfikacji funkcji kosztu!"
      ]
    },
    {
      "cell_type": "code",
      "execution_count": 5,
      "metadata": {
        "id": "FBCXRaAsT_Xe"
      },
      "outputs": [],
      "source": [
        "import numpy as np\n",
        "\n",
        "\n",
        "def mixup_data(x, y, alpha=1.0):\n",
        "    \"\"\"Returns mixed inputs, pairs of targets, and lambda\"\"\"\n",
        "    if alpha > 0:\n",
        "        lam = np.random.beta(alpha, alpha)\n",
        "    else:\n",
        "        lam = 1\n",
        "\n",
        "    batch_size = x.size()[0]\n",
        "    index = torch.randperm(batch_size)\n",
        "\n",
        "    mixed_x = lam * x + (1 - lam) * x[index, :]\n",
        "    y_a, y_b = y, y[index]\n",
        "\n",
        "    return mixed_x, y_a, y_b, lam\n",
        "\n",
        "\n",
        "def mixup_criterion(criterion, pred, y_a, y_b, lam):\n",
        "    \"\"\"Compute the mixup loss.\"\"\"\n",
        "    return lam * criterion(pred, y_a) + (1 - lam) * criterion(pred, y_b)\n",
        "\n",
        "\n",
        "def fit_mix(model, optimizer, loss_fn, train_dl, val_dl, epochs, print_metrics=True):\n",
        "    for epoch in range(epochs):\n",
        "        model.train()\n",
        "        for X_batch, y_batch in tqdm(train_dl):\n",
        "            X_batch, y_batch = X_batch.to(device), y_batch.to(device)\n",
        "\n",
        "            X_mix, y_a, y_b, lam = mixup_data(X_batch, y_batch, alpha=0.2)\n",
        "\n",
        "            outputs = model(X_mix)\n",
        "\n",
        "            loss = mixup_criterion(loss_fn, outputs, y_a, y_b, lam)\n",
        "\n",
        "            optimizer.zero_grad()\n",
        "            loss.backward()\n",
        "            optimizer.step()\n",
        "\n",
        "        if print_metrics:\n",
        "            model.eval()\n",
        "            with torch.no_grad():\n",
        "                train_loss, train_acc = validate(\n",
        "                    model=model, loss_fn=loss_fn, dataloader=train_dl\n",
        "                )\n",
        "                val_loss, val_acc = validate(\n",
        "                    model=model, loss_fn=loss_fn, dataloader=val_dl\n",
        "                )\n",
        "                print(\n",
        "                    f\"Epoch {epoch}: \"\n",
        "                    f\"train loss = {train_loss:.3f} (acc: {train_acc:.3f}), \"\n",
        "                    f\"validation loss = {val_loss:.3f} (acc: {val_acc:.3f})\"\n",
        "                )"
      ]
    },
    {
      "cell_type": "markdown",
      "metadata": {
        "id": "bId62ojPhzkU"
      },
      "source": [
        "Sprawdź, czy uzyskuje ona przewagę nad modelem trenowanym bez augmentacji.\n",
        "\n"
      ]
    },
    {
      "cell_type": "code",
      "execution_count": 11,
      "metadata": {
        "colab": {
          "base_uri": "https://localhost:8080/"
        },
        "id": "727vLU-8h6EE",
        "outputId": "9f7e2453-e303-4875-97ff-87a200877b5d"
      },
      "outputs": [
        {
          "name": "stderr",
          "output_type": "stream",
          "text": [
            "100%|██████████| 1563/1563 [00:10<00:00, 143.03it/s]\n"
          ]
        },
        {
          "name": "stdout",
          "output_type": "stream",
          "text": [
            "Epoch 0: train loss = 0.037 (acc: 0.576), validation loss = 0.038 (acc: 0.565)\n"
          ]
        },
        {
          "name": "stderr",
          "output_type": "stream",
          "text": [
            "100%|██████████| 1563/1563 [00:10<00:00, 147.89it/s]\n"
          ]
        },
        {
          "name": "stdout",
          "output_type": "stream",
          "text": [
            "Epoch 1: train loss = 0.033 (acc: 0.633), validation loss = 0.035 (acc: 0.611)\n"
          ]
        },
        {
          "name": "stderr",
          "output_type": "stream",
          "text": [
            "100%|██████████| 1563/1563 [00:11<00:00, 138.89it/s]\n"
          ]
        },
        {
          "name": "stdout",
          "output_type": "stream",
          "text": [
            "Epoch 2: train loss = 0.030 (acc: 0.672), validation loss = 0.032 (acc: 0.646)\n"
          ]
        },
        {
          "name": "stderr",
          "output_type": "stream",
          "text": [
            "100%|██████████| 1563/1563 [00:10<00:00, 142.30it/s]\n"
          ]
        },
        {
          "name": "stdout",
          "output_type": "stream",
          "text": [
            "Epoch 3: train loss = 0.027 (acc: 0.699), validation loss = 0.030 (acc: 0.668)\n"
          ]
        },
        {
          "name": "stderr",
          "output_type": "stream",
          "text": [
            "100%|██████████| 1563/1563 [00:11<00:00, 136.28it/s]\n"
          ]
        },
        {
          "name": "stdout",
          "output_type": "stream",
          "text": [
            "Epoch 4: train loss = 0.026 (acc: 0.722), validation loss = 0.029 (acc: 0.688)\n",
            "Validation accuracy without augmentation: tensor(0.6875, device='cuda:0')\n"
          ]
        }
      ],
      "source": [
        "import torch\n",
        "import torch.optim as optim\n",
        "import torchvision\n",
        "from torchvision.transforms import v2\n",
        "from torch.utils.data import DataLoader\n",
        "\n",
        "\n",
        "device = torch.device(\"cuda\" if torch.cuda.is_available() else \"cpu\")\n",
        "\n",
        "# przetestuj wyniki z wykorzystaniem zmodyfikowanego fit()# Train the model without augmentation\n",
        "train_dl = DataLoader(train_ds, batch_size=32, shuffle=True, pin_memory=True)\n",
        "test_dl = DataLoader(test_ds, batch_size=32, pin_memory=True)\n",
        "\n",
        "model_no_aug = ThreeLayerCNN(channels=32, labels=10)\n",
        "model_no_aug.to(device)\n",
        "optimizer_no_aug = optim.Adam(model_no_aug.parameters())\n",
        "loss_fn = torch.nn.CrossEntropyLoss()\n",
        "fit(model_no_aug, optimizer_no_aug, loss_fn, train_dl, test_dl, epochs=5)\n",
        "\n",
        "model_no_aug.eval()\n",
        "\n",
        "with torch.no_grad():\n",
        "    _, acc_no_aug = validate(model_no_aug, loss_fn, test_dl)\n",
        "\n",
        "\n",
        "print(\"Validation accuracy without augmentation:\", acc_no_aug)"
      ]
    },
    {
      "cell_type": "code",
      "execution_count": 12,
      "metadata": {
        "colab": {
          "base_uri": "https://localhost:8080/"
        },
        "id": "Xe7dZorbfmSE",
        "outputId": "72f9aa10-bb4a-4e80-df32-3a2a921e2c87"
      },
      "outputs": [
        {
          "name": "stderr",
          "output_type": "stream",
          "text": [
            "100%|██████████| 1563/1563 [00:10<00:00, 143.58it/s]\n"
          ]
        },
        {
          "name": "stdout",
          "output_type": "stream",
          "text": [
            "Epoch 0: train loss = 0.039 (acc: 0.569), validation loss = 0.039 (acc: 0.565)\n"
          ]
        },
        {
          "name": "stderr",
          "output_type": "stream",
          "text": [
            "100%|██████████| 1563/1563 [00:11<00:00, 137.92it/s]\n"
          ]
        },
        {
          "name": "stdout",
          "output_type": "stream",
          "text": [
            "Epoch 1: train loss = 0.036 (acc: 0.603), validation loss = 0.037 (acc: 0.588)\n"
          ]
        },
        {
          "name": "stderr",
          "output_type": "stream",
          "text": [
            "100%|██████████| 1563/1563 [00:12<00:00, 126.32it/s]\n"
          ]
        },
        {
          "name": "stdout",
          "output_type": "stream",
          "text": [
            "Epoch 2: train loss = 0.031 (acc: 0.667), validation loss = 0.033 (acc: 0.647)\n"
          ]
        },
        {
          "name": "stderr",
          "output_type": "stream",
          "text": [
            "100%|██████████| 1563/1563 [00:12<00:00, 123.31it/s]\n"
          ]
        },
        {
          "name": "stdout",
          "output_type": "stream",
          "text": [
            "Epoch 3: train loss = 0.029 (acc: 0.680), validation loss = 0.031 (acc: 0.659)\n"
          ]
        },
        {
          "name": "stderr",
          "output_type": "stream",
          "text": [
            "100%|██████████| 1563/1563 [00:14<00:00, 104.28it/s]\n"
          ]
        },
        {
          "name": "stdout",
          "output_type": "stream",
          "text": [
            "Epoch 4: train loss = 0.028 (acc: 0.698), validation loss = 0.031 (acc: 0.675)\n",
            "Validation accuracy with Mixup augmentation: tensor(0.6746, device='cuda:0')\n"
          ]
        }
      ],
      "source": [
        "device = torch.device(\"cuda\" if torch.cuda.is_available() else \"cpu\")\n",
        "\n",
        "# Train the model with Mixup augmentation\n",
        "model_mixup = ThreeLayerCNN(channels=32, labels=10)\n",
        "model_mixup.to(device)\n",
        "optimizer_mixup = optim.Adam(model_mixup.parameters())\n",
        "loss_fn = torch.nn.CrossEntropyLoss()\n",
        "fit_mix(model_mixup, optimizer_mixup, loss_fn, train_dl, test_dl, epochs=5)\n",
        "\n",
        "model_mixup.eval()\n",
        "\n",
        "with torch.no_grad():\n",
        "    _, acc_mixup = validate(model_mixup, loss_fn, test_dl)\n",
        "\n",
        "print(\"Validation accuracy with Mixup augmentation:\", acc_mixup)"
      ]
    },
    {
      "cell_type": "markdown",
      "metadata": {
        "id": "D3QMNaOb9lvp"
      },
      "source": [
        "# Skrótowe połączenia\n",
        "\n",
        "W kontekście sieci konwolucyjnych warto zpoznać się jeszcze z jedną istotną koncepcją: połączenia omijające warstwy, poprzez konkatenacje ich wyniku z wynikami dalszych warstw lub dodawanie ich wyniku do wyjścia dalszej warstwy (w drugim przypadku mówimy też o połączeniach *rezydualnych*). Połączenia takie są potrzebne szczególnie przy trenowaniu sieci bardzo głębokich, zawierających dziesiątki czy nawet ponad 100 warstw, czego nie będziemy w stanie realistycznie zrealizować w czasie naszych laboratoriów. Niemniej warto zapoznać się zarówno z samą ideą, jak i ich implementacją, jako że przy pracy z architekturami *state of the art* będziemy często natykać się na takie konstrukcje.\n",
        "\n",
        "W konstrukcji sieci z połączeniamy pomijającymi warstwy i połączeniami rezydualnymi często będziemy spotykać się z powtarzalnymi *blokami* obejmującymi kilka warstw - dobrą praktyką implementacyjną jest wydzielanie takich bloków jako osobnych podklas `torch.nn.Module`. Warto też z góry zwrócić uwagę, że znane nam już `torch.nn.Sequential` nie uwzględnia połączeń innych niż sekwencyjne - czyli połączenia rezydualne i omijanie warstw nie wchodzi w grę, chyba że w obrębie wydzielonego bloku."
      ]
    },
    {
      "cell_type": "markdown",
      "metadata": {
        "id": "JxUiBYYX_lcb"
      },
      "source": [
        "# Zadanie 3\n",
        "\n",
        "Uzupełnij kod klasy SkipBlock tak, aby implementowała blok o zadanej strukturze.\n",
        "\n",
        "Struktura SkipBlock:\n",
        "\n",
        "główna sekwencja warstw\n",
        "\n",
        "*   warstwa konwolucyjna, nie zmieniająca wymiarów szerokość/wysokość, `in_channels x out_channels`, filtr 3x3\n",
        "*   aktywacja ReLU\n",
        "*   warstwa konwolucyjna, wykonująca downsampling x2 w wymiarach szerokość/wysokość, filtr 3x3\n",
        "\n",
        "warstwa poboczna (na wejściu: wejście do całego bloku, wyjście dodawane jest do wyjścia sekwencji powyżej)\n",
        "\n",
        "*    warstwa konwolucyjna, filtr 2x2\n",
        "\n",
        "**Samodzielnie dobierz niesprecyzowane parametry** tak, aby wymiary odpowiednich wyjść się zgadzały. Wyjście bloku powinno mieć `out_channels` kanałów oraz dwukrotnie zmniejszoną wysokość i szerokość w stosunku do wejścia."
      ]
    },
    {
      "cell_type": "code",
      "execution_count": 14,
      "metadata": {
        "id": "cVJ1cGOs9lSg"
      },
      "outputs": [],
      "source": [
        "class SkipBlock(torch.nn.Module):\n",
        "    def __init__(self, in_channels: int, out_channels: int):\n",
        "        super(SkipBlock, self).__init__()\n",
        "        self.main_conv = nn.Sequential(\n",
        "            nn.Conv2d(in_channels, out_channels, kernel_size=3, padding=1),\n",
        "            nn.ReLU(),\n",
        "            nn.Conv2d(out_channels, out_channels, kernel_size=3, padding=1, stride=2),\n",
        "        )\n",
        "        self.side_conv = nn.Conv2d(in_channels, out_channels, kernel_size=2, stride=2)\n",
        "\n",
        "    def forward(self, x):\n",
        "        main_out = self.main_conv(x)\n",
        "        side_out = self.side_conv(x)\n",
        "        return main_out + side_out\n",
        "\n",
        "\n",
        "class SkipBlockCNN(torch.nn.Module):\n",
        "    def __init__(self, channels: list[int], labels: int):\n",
        "        super().__init__()\n",
        "        self.model = torch.nn.Sequential()\n",
        "        self.model.add_module(\"res_1\", SkipBlock(3, channels[0]))\n",
        "        self.model.add_module(\"relu_1\", torch.nn.ReLU())\n",
        "        self.model.add_module(\"res_2\", SkipBlock(channels[0], channels[1]))\n",
        "        self.model.add_module(\"relu_2\", torch.nn.ReLU())\n",
        "        self.model.add_module(\"res_3\", SkipBlock(channels[1], channels[2]))\n",
        "        self.model.add_module(\"relu_3\", torch.nn.ReLU())\n",
        "        self.model.add_module(\"flatten\", torch.nn.Flatten())\n",
        "        self.model.add_module(\"linear\", torch.nn.Linear(4 * 4 * channels[2], labels))\n",
        "\n",
        "    def forward(self, x):\n",
        "        return self.model(x)"
      ]
    },
    {
      "cell_type": "markdown",
      "metadata": {
        "id": "YMZNBCOmmu8I"
      },
      "source": [
        " Wyucz sieć SkipBlockCNN i porównaj jej wyniki z wcześniej uzykanymi."
      ]
    },
    {
      "cell_type": "code",
      "execution_count": 15,
      "metadata": {
        "colab": {
          "base_uri": "https://localhost:8080/"
        },
        "id": "q6r2bdnAmzob",
        "outputId": "2dd148d7-2d12-4597-f4a7-e8f2970747fe"
      },
      "outputs": [
        {
          "name": "stderr",
          "output_type": "stream",
          "text": [
            "100%|██████████| 1563/1563 [00:14<00:00, 110.25it/s]\n"
          ]
        },
        {
          "name": "stdout",
          "output_type": "stream",
          "text": [
            "Epoch 0: train loss = 0.040 (acc: 0.545), validation loss = 0.041 (acc: 0.539)\n"
          ]
        },
        {
          "name": "stderr",
          "output_type": "stream",
          "text": [
            "100%|██████████| 1563/1563 [00:14<00:00, 108.55it/s]\n"
          ]
        },
        {
          "name": "stdout",
          "output_type": "stream",
          "text": [
            "Epoch 1: train loss = 0.034 (acc: 0.622), validation loss = 0.036 (acc: 0.598)\n"
          ]
        },
        {
          "name": "stderr",
          "output_type": "stream",
          "text": [
            "100%|██████████| 1563/1563 [00:12<00:00, 123.47it/s]\n"
          ]
        },
        {
          "name": "stdout",
          "output_type": "stream",
          "text": [
            "Epoch 2: train loss = 0.029 (acc: 0.677), validation loss = 0.033 (acc: 0.625)\n"
          ]
        },
        {
          "name": "stderr",
          "output_type": "stream",
          "text": [
            "100%|██████████| 1563/1563 [00:12<00:00, 122.81it/s]\n"
          ]
        },
        {
          "name": "stdout",
          "output_type": "stream",
          "text": [
            "Epoch 3: train loss = 0.025 (acc: 0.713), validation loss = 0.031 (acc: 0.649)\n"
          ]
        },
        {
          "name": "stderr",
          "output_type": "stream",
          "text": [
            "100%|██████████| 1563/1563 [00:12<00:00, 121.78it/s]\n"
          ]
        },
        {
          "name": "stdout",
          "output_type": "stream",
          "text": [
            "Epoch 4: train loss = 0.022 (acc: 0.752), validation loss = 0.029 (acc: 0.673)\n",
            "Validation accuracy with Mixup augmentation: tensor(0.6727, device='cuda:0')\n"
          ]
        }
      ],
      "source": [
        "device = torch.device(\"cuda\" if torch.cuda.is_available() else \"cpu\")\n",
        "\n",
        "model_skip_block = SkipBlockCNN([16, 32, 64], labels=10)\n",
        "\n",
        "model_skip_block.to(device)\n",
        "\n",
        "train_dl = DataLoader(train_ds, batch_size=32, shuffle=True, pin_memory=True)\n",
        "test_dl = DataLoader(test_ds, batch_size=32, pin_memory=True)\n",
        "\n",
        "optimizer = optim.Adam(model_skip_block.parameters())\n",
        "loss_fn = torch.nn.CrossEntropyLoss()\n",
        "fit(model_skip_block, optimizer, loss_fn, train_dl, test_dl, epochs=5)\n",
        "\n",
        "model_skip_block.eval()\n",
        "\n",
        "with torch.no_grad():\n",
        "    _, acc_skip_block = validate(model_skip_block, loss_fn, test_dl)\n",
        "\n",
        "print(\"Validation accuracy with skip block:\", acc_skip_block)"
      ]
    }
  ],
  "metadata": {
    "accelerator": "GPU",
    "colab": {
      "provenance": []
    },
    "kernelspec": {
      "display_name": "Python 3",
      "name": "python3"
    }
  },
  "nbformat": 4,
  "nbformat_minor": 0
}
